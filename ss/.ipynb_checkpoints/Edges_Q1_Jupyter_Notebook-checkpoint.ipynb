{
 "cells": [
  {
   "cell_type": "code",
   "execution_count": 1,
   "metadata": {
    "collapsed": true
   },
   "outputs": [],
   "source": [
    "## Import necessary libraries\n",
    "import pickle\n",
    "import pandas as pd\n",
    "import math as mt"
   ]
  },
  {
   "cell_type": "code",
   "execution_count": 2,
   "metadata": {
    "scrolled": true
   },
   "outputs": [
    {
     "data": {
      "text/html": [
       "<div>\n",
       "<style>\n",
       "    .dataframe thead tr:only-child th {\n",
       "        text-align: right;\n",
       "    }\n",
       "\n",
       "    .dataframe thead th {\n",
       "        text-align: left;\n",
       "    }\n",
       "\n",
       "    .dataframe tbody tr th {\n",
       "        vertical-align: top;\n",
       "    }\n",
       "</style>\n",
       "<table border=\"1\" class=\"dataframe\">\n",
       "  <thead>\n",
       "    <tr style=\"text-align: right;\">\n",
       "      <th></th>\n",
       "      <th>title</th>\n",
       "      <th>time</th>\n",
       "      <th>revert</th>\n",
       "      <th>version</th>\n",
       "      <th>user</th>\n",
       "    </tr>\n",
       "  </thead>\n",
       "  <tbody>\n",
       "    <tr>\n",
       "      <th>0</th>\n",
       "      <td>Industrial_revolution</td>\n",
       "      <td>2002-02-25 15:51:15</td>\n",
       "      <td>0</td>\n",
       "      <td>2</td>\n",
       "      <td>Conversion_script</td>\n",
       "    </tr>\n",
       "    <tr>\n",
       "      <th>1</th>\n",
       "      <td>Industrial_revolution</td>\n",
       "      <td>2001-08-17 14:14:23</td>\n",
       "      <td>0</td>\n",
       "      <td>1</td>\n",
       "      <td>Koyaanis_Qatsi</td>\n",
       "    </tr>\n",
       "    <tr>\n",
       "      <th>2</th>\n",
       "      <td>Spitfire_(disambiguation)</td>\n",
       "      <td>2002-06-20 13:00:32</td>\n",
       "      <td>0</td>\n",
       "      <td>2</td>\n",
       "      <td>Uriyan</td>\n",
       "    </tr>\n",
       "    <tr>\n",
       "      <th>3</th>\n",
       "      <td>Spitfire_(disambiguation)</td>\n",
       "      <td>2002-02-25 15:43:11</td>\n",
       "      <td>0</td>\n",
       "      <td>1</td>\n",
       "      <td>Conversion_script</td>\n",
       "    </tr>\n",
       "    <tr>\n",
       "      <th>4</th>\n",
       "      <td>Supermarine_Spitfire</td>\n",
       "      <td>2002-12-24 13:09:25</td>\n",
       "      <td>0</td>\n",
       "      <td>29</td>\n",
       "      <td>Tannin</td>\n",
       "    </tr>\n",
       "  </tbody>\n",
       "</table>\n",
       "</div>"
      ],
      "text/plain": [
       "                        title                time  revert  version  \\\n",
       "0      Industrial_revolution  2002-02-25 15:51:15       0        2   \n",
       "1      Industrial_revolution  2001-08-17 14:14:23       0        1   \n",
       "2  Spitfire_(disambiguation)  2002-06-20 13:00:32       0        2   \n",
       "3  Spitfire_(disambiguation)  2002-02-25 15:43:11       0        1   \n",
       "4       Supermarine_Spitfire  2002-12-24 13:09:25       0       29   \n",
       "\n",
       "                user  \n",
       "0  Conversion_script  \n",
       "1     Koyaanis_Qatsi  \n",
       "2             Uriyan  \n",
       "3  Conversion_script  \n",
       "4             Tannin  "
      ]
     },
     "execution_count": 2,
     "metadata": {},
     "output_type": "execute_result"
    }
   ],
   "source": [
    "## Reading the DataFrame\n",
    "df = pd.read_csv(\"enwiki_2002.txt\", sep = '\\t', parse_dates=['time'])\n",
    "df.head()"
   ]
  },
  {
   "cell_type": "code",
   "execution_count": 3,
   "metadata": {
    "collapsed": true
   },
   "outputs": [],
   "source": [
    "## Appling status to all\n",
    "df = df.sort_values('time')\n",
    "df['status'] = df.groupby('user').cumcount().add(1)\n",
    "df['status'] = df['status'].apply(mt.log10)\n",
    "df = df.sort_index() #sort-back the index"
   ]
  },
  {
   "cell_type": "code",
   "execution_count": 4,
   "metadata": {
    "scrolled": false
   },
   "outputs": [
    {
     "data": {
      "text/html": [
       "<div>\n",
       "<style>\n",
       "    .dataframe thead tr:only-child th {\n",
       "        text-align: right;\n",
       "    }\n",
       "\n",
       "    .dataframe thead th {\n",
       "        text-align: left;\n",
       "    }\n",
       "\n",
       "    .dataframe tbody tr th {\n",
       "        vertical-align: top;\n",
       "    }\n",
       "</style>\n",
       "<table border=\"1\" class=\"dataframe\">\n",
       "  <thead>\n",
       "    <tr style=\"text-align: right;\">\n",
       "      <th></th>\n",
       "      <th>title</th>\n",
       "      <th>time</th>\n",
       "      <th>revert</th>\n",
       "      <th>version</th>\n",
       "      <th>user</th>\n",
       "      <th>status</th>\n",
       "    </tr>\n",
       "  </thead>\n",
       "  <tbody>\n",
       "    <tr>\n",
       "      <th>0</th>\n",
       "      <td>Industrial_revolution</td>\n",
       "      <td>2002-02-25 15:51:15</td>\n",
       "      <td>0</td>\n",
       "      <td>2</td>\n",
       "      <td>Conversion_script</td>\n",
       "      <td>4.415641</td>\n",
       "    </tr>\n",
       "    <tr>\n",
       "      <th>1</th>\n",
       "      <td>Industrial_revolution</td>\n",
       "      <td>2001-08-17 14:14:23</td>\n",
       "      <td>0</td>\n",
       "      <td>1</td>\n",
       "      <td>Koyaanis_Qatsi</td>\n",
       "      <td>2.060698</td>\n",
       "    </tr>\n",
       "    <tr>\n",
       "      <th>2</th>\n",
       "      <td>Spitfire_(disambiguation)</td>\n",
       "      <td>2002-06-20 13:00:32</td>\n",
       "      <td>0</td>\n",
       "      <td>2</td>\n",
       "      <td>Uriyan</td>\n",
       "      <td>2.816904</td>\n",
       "    </tr>\n",
       "  </tbody>\n",
       "</table>\n",
       "</div>"
      ],
      "text/plain": [
       "                        title                time  revert  version  \\\n",
       "0      Industrial_revolution  2002-02-25 15:51:15       0        2   \n",
       "1      Industrial_revolution  2001-08-17 14:14:23       0        1   \n",
       "2  Spitfire_(disambiguation)  2002-06-20 13:00:32       0        2   \n",
       "\n",
       "                user    status  \n",
       "0  Conversion_script  4.415641  \n",
       "1     Koyaanis_Qatsi  2.060698  \n",
       "2             Uriyan  2.816904  "
      ]
     },
     "execution_count": 4,
     "metadata": {},
     "output_type": "execute_result"
    }
   ],
   "source": [
    "df.head(3)"
   ]
  },
  {
   "cell_type": "code",
   "execution_count": 5,
   "metadata": {},
   "outputs": [
    {
     "data": {
      "text/plain": [
       "[12, 35, 109, 110, 137, 153, 159, 163, 222]"
      ]
     },
     "execution_count": 5,
     "metadata": {},
     "output_type": "execute_result"
    }
   ],
   "source": [
    "## List of the reversions in the data. i.e indexes of columns where revert == 1.\n",
    "index_reversions = df[df['revert'] == 1].index.tolist()\n",
    "index_reversions[:9]"
   ]
  },
  {
   "cell_type": "code",
   "execution_count": 6,
   "metadata": {},
   "outputs": [
    {
     "data": {
      "text/plain": [
       "[['Supermarine_Spitfire ', 21],\n",
       " ['Jesus_College,_Cambridge ', 2],\n",
       " ['Bubble_sort ', 17],\n",
       " ['Bubble_sort ', 16],\n",
       " ['Jews ', 25],\n",
       " ['Jews ', 11],\n",
       " ['Jews ', 6],\n",
       " ['Jews ', 3],\n",
       " [\"Coup_d'état \", 17],\n",
       " [\"Coup_d'état \", 12]]"
      ]
     },
     "execution_count": 6,
     "metadata": {},
     "output_type": "execute_result"
    }
   ],
   "source": [
    "##Take the Title and Version from the reversions\n",
    "list_reverts = df.loc[index_reversions][['title','version']].values.tolist()\n",
    "list_reverts[:10]"
   ]
  },
  {
   "cell_type": "code",
   "execution_count": 7,
   "metadata": {
    "scrolled": true
   },
   "outputs": [
    {
     "data": {
      "text/html": [
       "<div>\n",
       "<style>\n",
       "    .dataframe thead tr:only-child th {\n",
       "        text-align: right;\n",
       "    }\n",
       "\n",
       "    .dataframe thead th {\n",
       "        text-align: left;\n",
       "    }\n",
       "\n",
       "    .dataframe tbody tr th {\n",
       "        vertical-align: top;\n",
       "    }\n",
       "</style>\n",
       "<table border=\"1\" class=\"dataframe\">\n",
       "  <thead>\n",
       "    <tr style=\"text-align: right;\">\n",
       "      <th></th>\n",
       "      <th>title</th>\n",
       "      <th>time</th>\n",
       "      <th>revert</th>\n",
       "      <th>version</th>\n",
       "      <th>user</th>\n",
       "      <th>status</th>\n",
       "    </tr>\n",
       "  </thead>\n",
       "  <tbody>\n",
       "    <tr>\n",
       "      <th>1748</th>\n",
       "      <td>MSC_Malaysia</td>\n",
       "      <td>2002-10-18 12:56:20</td>\n",
       "      <td>0</td>\n",
       "      <td>2</td>\n",
       "      <td>Willsmith</td>\n",
       "      <td>1.255273</td>\n",
       "    </tr>\n",
       "    <tr>\n",
       "      <th>1749</th>\n",
       "      <td>MSC_Malaysia</td>\n",
       "      <td>2002-10-18 11:36:55</td>\n",
       "      <td>0</td>\n",
       "      <td>1</td>\n",
       "      <td>Willsmith</td>\n",
       "      <td>0.301030</td>\n",
       "    </tr>\n",
       "    <tr>\n",
       "      <th>1750</th>\n",
       "      <td>Aluminum</td>\n",
       "      <td>2002-12-27 03:21:09</td>\n",
       "      <td>1</td>\n",
       "      <td>5</td>\n",
       "      <td>Camembert</td>\n",
       "      <td>3.450095</td>\n",
       "    </tr>\n",
       "    <tr>\n",
       "      <th>1751</th>\n",
       "      <td>Aluminum</td>\n",
       "      <td>2002-12-27 02:54:25</td>\n",
       "      <td>1</td>\n",
       "      <td>4</td>\n",
       "      <td>Isis</td>\n",
       "      <td>3.596157</td>\n",
       "    </tr>\n",
       "    <tr>\n",
       "      <th>1752</th>\n",
       "      <td>Aluminum</td>\n",
       "      <td>2002-12-27 02:35:20</td>\n",
       "      <td>1</td>\n",
       "      <td>5</td>\n",
       "      <td>64.229.101.208</td>\n",
       "      <td>0.000000</td>\n",
       "    </tr>\n",
       "    <tr>\n",
       "      <th>1753</th>\n",
       "      <td>Aluminum</td>\n",
       "      <td>2002-12-27 01:15:03</td>\n",
       "      <td>1</td>\n",
       "      <td>4</td>\n",
       "      <td>Isis</td>\n",
       "      <td>3.595827</td>\n",
       "    </tr>\n",
       "    <tr>\n",
       "      <th>1754</th>\n",
       "      <td>Aluminum</td>\n",
       "      <td>2002-12-27 00:39:50</td>\n",
       "      <td>0</td>\n",
       "      <td>5</td>\n",
       "      <td>Mav</td>\n",
       "      <td>4.104043</td>\n",
       "    </tr>\n",
       "    <tr>\n",
       "      <th>1755</th>\n",
       "      <td>Aluminum</td>\n",
       "      <td>2002-12-27 00:34:38</td>\n",
       "      <td>0</td>\n",
       "      <td>4</td>\n",
       "      <td>Isis</td>\n",
       "      <td>3.595717</td>\n",
       "    </tr>\n",
       "    <tr>\n",
       "      <th>1756</th>\n",
       "      <td>Aluminum</td>\n",
       "      <td>2002-12-27 00:32:02</td>\n",
       "      <td>0</td>\n",
       "      <td>3</td>\n",
       "      <td>Isis</td>\n",
       "      <td>3.595496</td>\n",
       "    </tr>\n",
       "    <tr>\n",
       "      <th>1757</th>\n",
       "      <td>Aluminum</td>\n",
       "      <td>2002-02-25 15:43:11</td>\n",
       "      <td>0</td>\n",
       "      <td>2</td>\n",
       "      <td>Conversion_script</td>\n",
       "      <td>3.678609</td>\n",
       "    </tr>\n",
       "  </tbody>\n",
       "</table>\n",
       "</div>"
      ],
      "text/plain": [
       "              title                time  revert  version               user  \\\n",
       "1748  MSC_Malaysia  2002-10-18 12:56:20       0        2          Willsmith   \n",
       "1749  MSC_Malaysia  2002-10-18 11:36:55       0        1          Willsmith   \n",
       "1750      Aluminum  2002-12-27 03:21:09       1        5          Camembert   \n",
       "1751      Aluminum  2002-12-27 02:54:25       1        4               Isis   \n",
       "1752      Aluminum  2002-12-27 02:35:20       1        5     64.229.101.208   \n",
       "1753      Aluminum  2002-12-27 01:15:03       1        4               Isis   \n",
       "1754      Aluminum  2002-12-27 00:39:50       0        5                Mav   \n",
       "1755      Aluminum  2002-12-27 00:34:38       0        4               Isis   \n",
       "1756      Aluminum  2002-12-27 00:32:02       0        3               Isis   \n",
       "1757      Aluminum  2002-02-25 15:43:11       0        2  Conversion_script   \n",
       "\n",
       "        status  \n",
       "1748  1.255273  \n",
       "1749  0.301030  \n",
       "1750  3.450095  \n",
       "1751  3.596157  \n",
       "1752  0.000000  \n",
       "1753  3.595827  \n",
       "1754  4.104043  \n",
       "1755  3.595717  \n",
       "1756  3.595496  \n",
       "1757  3.678609  "
      ]
     },
     "execution_count": 7,
     "metadata": {},
     "output_type": "execute_result"
    }
   ],
   "source": [
    "df.iloc[1748:1758]"
   ]
  },
  {
   "cell_type": "markdown",
   "metadata": {},
   "source": [
    "** In examples as in above we assume that at 2002-12-27 02:54:25 Isis reverted Mav (not 64.229.101.208)**  \n",
    "** so Isis reverted Mav twice at 2002-12-27 01:15:03 and at 2002-12-27 02:54:25 **"
   ]
  },
  {
   "cell_type": "code",
   "execution_count": 8,
   "metadata": {
    "collapsed": true
   },
   "outputs": [],
   "source": [
    "## MAIN CODE: search for the reverted editor. Based on a search model. \n",
    "# 1) searches for the title of the wikipedia f.e ['Supermarine_Spitfire]\n",
    "# 2) in that dataframe searches for the version to which is was reverted\n",
    "# 3) (df['revert'] == 0) is in case to not to count twice some reversions of reversions. I.E the thing that is discussed above \n",
    "index_reverted = []\n",
    "for sublist in list_reverts:\n",
    "    indexex = df[(df['title'] == sublist[0]) & (df['version'] == sublist[1]) & (df['revert'] == 0)].index - 1\n",
    "    index_reverted.append(indexex.tolist())"
   ]
  },
  {
   "cell_type": "code",
   "execution_count": 9,
   "metadata": {
    "collapsed": true
   },
   "outputs": [],
   "source": [
    "index_reverted_flat = [item for sublist in index_reverted for item in sublist]"
   ]
  },
  {
   "cell_type": "code",
   "execution_count": 10,
   "metadata": {
    "collapsed": true
   },
   "outputs": [],
   "source": [
    "df_revert = pd.DataFrame({'Time' : df.loc[index_reversions]['time'].tolist(), \n",
    "                          'Reverter' : df.loc[index_reversions]['user'].tolist(),\n",
    "                          'Reverted' : df.loc[index_reverted_flat]['user'].tolist(),\n",
    "                         'Status_reverter' : df.loc[index_reversions]['status'].tolist(),\n",
    "                         'Status_reverted' : df.loc[index_reverted_flat]['status'].tolist()})"
   ]
  },
  {
   "cell_type": "code",
   "execution_count": 11,
   "metadata": {},
   "outputs": [
    {
     "data": {
      "text/html": [
       "<div>\n",
       "<style>\n",
       "    .dataframe thead tr:only-child th {\n",
       "        text-align: right;\n",
       "    }\n",
       "\n",
       "    .dataframe thead th {\n",
       "        text-align: left;\n",
       "    }\n",
       "\n",
       "    .dataframe tbody tr th {\n",
       "        vertical-align: top;\n",
       "    }\n",
       "</style>\n",
       "<table border=\"1\" class=\"dataframe\">\n",
       "  <thead>\n",
       "    <tr style=\"text-align: right;\">\n",
       "      <th></th>\n",
       "      <th>Reverted</th>\n",
       "      <th>Reverter</th>\n",
       "      <th>Status_reverted</th>\n",
       "      <th>Status_reverter</th>\n",
       "      <th>Time</th>\n",
       "    </tr>\n",
       "  </thead>\n",
       "  <tbody>\n",
       "    <tr>\n",
       "      <th>0</th>\n",
       "      <td>Uriyan</td>\n",
       "      <td>Uriyan</td>\n",
       "      <td>2.817565</td>\n",
       "      <td>2.817565</td>\n",
       "      <td>2002-06-20 13:01:19</td>\n",
       "    </tr>\n",
       "    <tr>\n",
       "      <th>1</th>\n",
       "      <td>Conversion_script</td>\n",
       "      <td>Willsmith</td>\n",
       "      <td>4.426218</td>\n",
       "      <td>2.336460</td>\n",
       "      <td>2002-10-23 13:34:06</td>\n",
       "    </tr>\n",
       "    <tr>\n",
       "      <th>2</th>\n",
       "      <td>FvdP</td>\n",
       "      <td>FvdP</td>\n",
       "      <td>2.281033</td>\n",
       "      <td>2.283301</td>\n",
       "      <td>2002-11-13 21:58:59</td>\n",
       "    </tr>\n",
       "    <tr>\n",
       "      <th>3</th>\n",
       "      <td>Jmallios</td>\n",
       "      <td>FvdP</td>\n",
       "      <td>0.000000</td>\n",
       "      <td>2.281033</td>\n",
       "      <td>2002-11-13 21:53:17</td>\n",
       "    </tr>\n",
       "    <tr>\n",
       "      <th>4</th>\n",
       "      <td>Ezra_Wax</td>\n",
       "      <td>Danny</td>\n",
       "      <td>2.130334</td>\n",
       "      <td>3.279895</td>\n",
       "      <td>2002-11-03 04:28:10</td>\n",
       "    </tr>\n",
       "  </tbody>\n",
       "</table>\n",
       "</div>"
      ],
      "text/plain": [
       "            Reverted   Reverter  Status_reverted  Status_reverter  \\\n",
       "0             Uriyan     Uriyan         2.817565         2.817565   \n",
       "1  Conversion_script  Willsmith         4.426218         2.336460   \n",
       "2               FvdP       FvdP         2.281033         2.283301   \n",
       "3           Jmallios       FvdP         0.000000         2.281033   \n",
       "4           Ezra_Wax      Danny         2.130334         3.279895   \n",
       "\n",
       "                 Time  \n",
       "0 2002-06-20 13:01:19  \n",
       "1 2002-10-23 13:34:06  \n",
       "2 2002-11-13 21:58:59  \n",
       "3 2002-11-13 21:53:17  \n",
       "4 2002-11-03 04:28:10  "
      ]
     },
     "execution_count": 11,
     "metadata": {},
     "output_type": "execute_result"
    }
   ],
   "source": [
    "df_revert.head()"
   ]
  },
  {
   "cell_type": "code",
   "execution_count": 14,
   "metadata": {
    "collapsed": true
   },
   "outputs": [],
   "source": [
    "edges_df = df_revert[df_revert['Reverter'] != df_revert['Reverted']].reset_index(drop = True)"
   ]
  },
  {
   "cell_type": "code",
   "execution_count": 15,
   "metadata": {},
   "outputs": [
    {
     "data": {
      "text/html": [
       "<div>\n",
       "<style>\n",
       "    .dataframe thead tr:only-child th {\n",
       "        text-align: right;\n",
       "    }\n",
       "\n",
       "    .dataframe thead th {\n",
       "        text-align: left;\n",
       "    }\n",
       "\n",
       "    .dataframe tbody tr th {\n",
       "        vertical-align: top;\n",
       "    }\n",
       "</style>\n",
       "<table border=\"1\" class=\"dataframe\">\n",
       "  <thead>\n",
       "    <tr style=\"text-align: right;\">\n",
       "      <th></th>\n",
       "      <th>Reverted</th>\n",
       "      <th>Reverter</th>\n",
       "      <th>Status_reverted</th>\n",
       "      <th>Status_reverter</th>\n",
       "      <th>Time</th>\n",
       "    </tr>\n",
       "  </thead>\n",
       "  <tbody>\n",
       "    <tr>\n",
       "      <th>0</th>\n",
       "      <td>Conversion_script</td>\n",
       "      <td>Willsmith</td>\n",
       "      <td>4.426218</td>\n",
       "      <td>2.336460</td>\n",
       "      <td>2002-10-23 13:34:06</td>\n",
       "    </tr>\n",
       "    <tr>\n",
       "      <th>1</th>\n",
       "      <td>Jmallios</td>\n",
       "      <td>FvdP</td>\n",
       "      <td>0.000000</td>\n",
       "      <td>2.281033</td>\n",
       "      <td>2002-11-13 21:53:17</td>\n",
       "    </tr>\n",
       "    <tr>\n",
       "      <th>2</th>\n",
       "      <td>Ezra_Wax</td>\n",
       "      <td>Danny</td>\n",
       "      <td>2.130334</td>\n",
       "      <td>3.279895</td>\n",
       "      <td>2002-11-03 04:28:10</td>\n",
       "    </tr>\n",
       "  </tbody>\n",
       "</table>\n",
       "</div>"
      ],
      "text/plain": [
       "            Reverted   Reverter  Status_reverted  Status_reverter  \\\n",
       "0  Conversion_script  Willsmith         4.426218         2.336460   \n",
       "1           Jmallios       FvdP         0.000000         2.281033   \n",
       "2           Ezra_Wax      Danny         2.130334         3.279895   \n",
       "\n",
       "                 Time  \n",
       "0 2002-10-23 13:34:06  \n",
       "1 2002-11-13 21:53:17  \n",
       "2 2002-11-03 04:28:10  "
      ]
     },
     "execution_count": 15,
     "metadata": {},
     "output_type": "execute_result"
    }
   ],
   "source": [
    "edges_df.head(3)"
   ]
  },
  {
   "cell_type": "code",
   "execution_count": 16,
   "metadata": {},
   "outputs": [
    {
     "name": "stdout",
     "output_type": "stream",
     "text": [
      "There are 4992 reversions in the data\n"
     ]
    }
   ],
   "source": [
    "print(\"There are\", len(edges_df), \"reversions in the data\")"
   ]
  },
  {
   "cell_type": "code",
   "execution_count": null,
   "metadata": {
    "collapsed": true
   },
   "outputs": [],
   "source": [
    "## uncomment if you want to overwrite.\n",
    "#with open ('edges_df', 'wb') as fw:\n",
    "#    pickle.dump(edges_df, fw)"
   ]
  }
 ],
 "metadata": {
  "kernelspec": {
   "display_name": "Python 3",
   "language": "python",
   "name": "python3"
  },
  "language_info": {
   "codemirror_mode": {
    "name": "ipython",
    "version": 3
   },
   "file_extension": ".py",
   "mimetype": "text/x-python",
   "name": "python",
   "nbconvert_exporter": "python",
   "pygments_lexer": "ipython3",
   "version": "3.6.3"
  }
 },
 "nbformat": 4,
 "nbformat_minor": 2
}
