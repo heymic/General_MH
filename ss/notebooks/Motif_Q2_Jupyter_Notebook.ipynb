{
 "cells": [
  {
   "cell_type": "code",
   "execution_count": 1,
   "metadata": {
    "collapsed": true
   },
   "outputs": [],
   "source": [
    "## Import necessary libraries\n",
    "import pickle\n",
    "import pandas as pd"
   ]
  },
  {
   "cell_type": "code",
   "execution_count": 2,
   "metadata": {
    "collapsed": true
   },
   "outputs": [],
   "source": [
    "with open ('edges_df', 'rb') as fr:\n",
    "    edges_df = pickle.load(fr)"
   ]
  },
  {
   "cell_type": "code",
   "execution_count": 4,
   "metadata": {
    "collapsed": true
   },
   "outputs": [],
   "source": [
    "edges_df = edges_df.sort_values('Time').reset_index(drop = True)"
   ]
  },
  {
   "cell_type": "code",
   "execution_count": 5,
   "metadata": {},
   "outputs": [
    {
     "data": {
      "text/html": [
       "<div>\n",
       "<style>\n",
       "    .dataframe thead tr:only-child th {\n",
       "        text-align: right;\n",
       "    }\n",
       "\n",
       "    .dataframe thead th {\n",
       "        text-align: left;\n",
       "    }\n",
       "\n",
       "    .dataframe tbody tr th {\n",
       "        vertical-align: top;\n",
       "    }\n",
       "</style>\n",
       "<table border=\"1\" class=\"dataframe\">\n",
       "  <thead>\n",
       "    <tr style=\"text-align: right;\">\n",
       "      <th></th>\n",
       "      <th>Reverted</th>\n",
       "      <th>Reverter</th>\n",
       "      <th>Status_reverted</th>\n",
       "      <th>Status_reverter</th>\n",
       "      <th>Time</th>\n",
       "    </tr>\n",
       "  </thead>\n",
       "  <tbody>\n",
       "    <tr>\n",
       "      <th>0</th>\n",
       "      <td>MichaelTinkler</td>\n",
       "      <td>Larry_Sanger</td>\n",
       "      <td>1.716003</td>\n",
       "      <td>2.564666</td>\n",
       "      <td>2001-08-14 00:47:46</td>\n",
       "    </tr>\n",
       "    <tr>\n",
       "      <th>1</th>\n",
       "      <td>Mike_Dill</td>\n",
       "      <td>Koyaanis_Qatsi</td>\n",
       "      <td>2.103804</td>\n",
       "      <td>2.418301</td>\n",
       "      <td>2001-09-06 06:24:23</td>\n",
       "    </tr>\n",
       "    <tr>\n",
       "      <th>2</th>\n",
       "      <td>64.192.12.xxx</td>\n",
       "      <td>DrBob</td>\n",
       "      <td>0.000000</td>\n",
       "      <td>1.518514</td>\n",
       "      <td>2001-10-15 18:37:47</td>\n",
       "    </tr>\n",
       "    <tr>\n",
       "      <th>3</th>\n",
       "      <td>63.192.137.xxx</td>\n",
       "      <td>Manning_Bartlett</td>\n",
       "      <td>1.799341</td>\n",
       "      <td>1.995635</td>\n",
       "      <td>2001-10-16 02:23:30</td>\n",
       "    </tr>\n",
       "    <tr>\n",
       "      <th>4</th>\n",
       "      <td>161.116.72.xxx</td>\n",
       "      <td>Manning_Bartlett</td>\n",
       "      <td>0.000000</td>\n",
       "      <td>2.025306</td>\n",
       "      <td>2001-10-17 12:00:42</td>\n",
       "    </tr>\n",
       "  </tbody>\n",
       "</table>\n",
       "</div>"
      ],
      "text/plain": [
       "         Reverted          Reverter  Status_reverted  Status_reverter  \\\n",
       "0  MichaelTinkler      Larry_Sanger         1.716003         2.564666   \n",
       "1       Mike_Dill    Koyaanis_Qatsi         2.103804         2.418301   \n",
       "2   64.192.12.xxx             DrBob         0.000000         1.518514   \n",
       "3  63.192.137.xxx  Manning_Bartlett         1.799341         1.995635   \n",
       "4  161.116.72.xxx  Manning_Bartlett         0.000000         2.025306   \n",
       "\n",
       "                 Time  \n",
       "0 2001-08-14 00:47:46  \n",
       "1 2001-09-06 06:24:23  \n",
       "2 2001-10-15 18:37:47  \n",
       "3 2001-10-16 02:23:30  \n",
       "4 2001-10-17 12:00:42  "
      ]
     },
     "execution_count": 5,
     "metadata": {},
     "output_type": "execute_result"
    }
   ],
   "source": [
    "edges_df.head()"
   ]
  },
  {
   "cell_type": "code",
   "execution_count": 10,
   "metadata": {},
   "outputs": [],
   "source": [
    "motif_df = pd.merge_asof(edges_df, edges_df, on='Time', \n",
    "                  left_by=['Reverted', 'Reverter'],\n",
    "                  right_by=['Reverter', 'Reverted'],\n",
    "                  tolerance=pd.Timedelta('24hours'),\n",
    "                  direction='forward',\n",
    "                  suffixes=('', '_hitback')).dropna(how = 'any', axis = 0).reset_index(drop = True)"
   ]
  },
  {
   "cell_type": "code",
   "execution_count": 11,
   "metadata": {},
   "outputs": [
    {
     "data": {
      "text/html": [
       "<div>\n",
       "<style>\n",
       "    .dataframe thead tr:only-child th {\n",
       "        text-align: right;\n",
       "    }\n",
       "\n",
       "    .dataframe thead th {\n",
       "        text-align: left;\n",
       "    }\n",
       "\n",
       "    .dataframe tbody tr th {\n",
       "        vertical-align: top;\n",
       "    }\n",
       "</style>\n",
       "<table border=\"1\" class=\"dataframe\">\n",
       "  <thead>\n",
       "    <tr style=\"text-align: right;\">\n",
       "      <th></th>\n",
       "      <th>Reverted</th>\n",
       "      <th>Reverter</th>\n",
       "      <th>Status_reverted</th>\n",
       "      <th>Status_reverter</th>\n",
       "      <th>Time</th>\n",
       "      <th>Reverted_hitback</th>\n",
       "      <th>Reverter_hitback</th>\n",
       "      <th>Status_reverted_hitback</th>\n",
       "      <th>Status_reverter_hitback</th>\n",
       "    </tr>\n",
       "  </thead>\n",
       "  <tbody>\n",
       "    <tr>\n",
       "      <th>0</th>\n",
       "      <td>208.60.196.xxx</td>\n",
       "      <td>Anatoly_Vorobey</td>\n",
       "      <td>1.278754</td>\n",
       "      <td>1.477121</td>\n",
       "      <td>2001-11-04 02:15:54</td>\n",
       "      <td>Anatoly_Vorobey</td>\n",
       "      <td>208.60.196.xxx</td>\n",
       "      <td>1.477121</td>\n",
       "      <td>1.322219</td>\n",
       "    </tr>\n",
       "    <tr>\n",
       "      <th>1</th>\n",
       "      <td>Ed_Poor</td>\n",
       "      <td>200.191.188.xxx</td>\n",
       "      <td>2.465383</td>\n",
       "      <td>2.952308</td>\n",
       "      <td>2001-12-06 16:37:39</td>\n",
       "      <td>200.191.188.xxx</td>\n",
       "      <td>Ed_Poor</td>\n",
       "      <td>2.953760</td>\n",
       "      <td>2.480007</td>\n",
       "    </tr>\n",
       "    <tr>\n",
       "      <th>2</th>\n",
       "      <td>Ed_Poor</td>\n",
       "      <td>200.191.188.xxx</td>\n",
       "      <td>2.465383</td>\n",
       "      <td>2.954243</td>\n",
       "      <td>2001-12-06 17:08:41</td>\n",
       "      <td>200.191.188.xxx</td>\n",
       "      <td>Ed_Poor</td>\n",
       "      <td>2.953760</td>\n",
       "      <td>2.480007</td>\n",
       "    </tr>\n",
       "    <tr>\n",
       "      <th>3</th>\n",
       "      <td>David_Byron</td>\n",
       "      <td>Egern</td>\n",
       "      <td>0.903090</td>\n",
       "      <td>2.100371</td>\n",
       "      <td>2001-12-09 06:38:58</td>\n",
       "      <td>Egern</td>\n",
       "      <td>David_Byron</td>\n",
       "      <td>2.100371</td>\n",
       "      <td>1.113943</td>\n",
       "    </tr>\n",
       "    <tr>\n",
       "      <th>4</th>\n",
       "      <td>Egern</td>\n",
       "      <td>David_Byron</td>\n",
       "      <td>2.100371</td>\n",
       "      <td>1.113943</td>\n",
       "      <td>2001-12-09 07:01:33</td>\n",
       "      <td>David_Byron</td>\n",
       "      <td>Egern</td>\n",
       "      <td>1.113943</td>\n",
       "      <td>2.107210</td>\n",
       "    </tr>\n",
       "  </tbody>\n",
       "</table>\n",
       "</div>"
      ],
      "text/plain": [
       "         Reverted         Reverter  Status_reverted  Status_reverter  \\\n",
       "0  208.60.196.xxx  Anatoly_Vorobey         1.278754         1.477121   \n",
       "1         Ed_Poor  200.191.188.xxx         2.465383         2.952308   \n",
       "2         Ed_Poor  200.191.188.xxx         2.465383         2.954243   \n",
       "3     David_Byron            Egern         0.903090         2.100371   \n",
       "4           Egern      David_Byron         2.100371         1.113943   \n",
       "\n",
       "                 Time Reverted_hitback Reverter_hitback  \\\n",
       "0 2001-11-04 02:15:54  Anatoly_Vorobey   208.60.196.xxx   \n",
       "1 2001-12-06 16:37:39  200.191.188.xxx          Ed_Poor   \n",
       "2 2001-12-06 17:08:41  200.191.188.xxx          Ed_Poor   \n",
       "3 2001-12-09 06:38:58            Egern      David_Byron   \n",
       "4 2001-12-09 07:01:33      David_Byron            Egern   \n",
       "\n",
       "   Status_reverted_hitback  Status_reverter_hitback  \n",
       "0                 1.477121                 1.322219  \n",
       "1                 2.953760                 2.480007  \n",
       "2                 2.953760                 2.480007  \n",
       "3                 2.100371                 1.113943  \n",
       "4                 1.113943                 2.107210  "
      ]
     },
     "execution_count": 11,
     "metadata": {},
     "output_type": "execute_result"
    }
   ],
   "source": [
    "motif_df.head()"
   ]
  },
  {
   "cell_type": "code",
   "execution_count": 12,
   "metadata": {},
   "outputs": [
    {
     "name": "stdout",
     "output_type": "stream",
     "text": [
      "There are 447 temporal motifs in the data\n"
     ]
    }
   ],
   "source": [
    "print(\"There are\", len(motif_df), \"temporal motifs in the data\")"
   ]
  },
  {
   "cell_type": "code",
   "execution_count": null,
   "metadata": {
    "collapsed": true
   },
   "outputs": [],
   "source": [
    "## uncomment if you want to overwrite.\n",
    "#with open ('motif_df', 'wb') as fw:\n",
    "#    pickle.dump(motif_df, fw)"
   ]
  }
 ],
 "metadata": {
  "kernelspec": {
   "display_name": "Python 3",
   "language": "python",
   "name": "python3"
  },
  "language_info": {
   "codemirror_mode": {
    "name": "ipython",
    "version": 3
   },
   "file_extension": ".py",
   "mimetype": "text/x-python",
   "name": "python",
   "nbconvert_exporter": "python",
   "pygments_lexer": "ipython3",
   "version": "3.6.3"
  }
 },
 "nbformat": 4,
 "nbformat_minor": 2
}
