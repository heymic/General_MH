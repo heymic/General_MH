{
 "cells": [
  {
   "cell_type": "code",
   "execution_count": 1,
   "metadata": {
    "collapsed": true
   },
   "outputs": [],
   "source": [
    "## Import necessary libraries\n",
    "import pickle\n",
    "import pandas as pd\n",
    "import matplotlib.pyplot as plt"
   ]
  },
  {
   "cell_type": "code",
   "execution_count": 2,
   "metadata": {
    "collapsed": true
   },
   "outputs": [],
   "source": [
    "## Import the data\n",
    "with open ('motif_df', 'rb') as fr:\n",
    "    motif_df = pickle.load(fr)\n",
    "\n",
    "with open ('edges_df', 'rb') as fr:\n",
    "    edges_df = pickle.load(fr)"
   ]
  },
  {
   "cell_type": "code",
   "execution_count": 3,
   "metadata": {
    "collapsed": true
   },
   "outputs": [],
   "source": [
    "motif_df['Status_diff'] = motif_df['Status_reverter'] - motif_df['Status_reverted']\n",
    "edges_df['Status_diff'] = edges_df['Status_reverter'] - edges_df['Status_reverted']"
   ]
  },
  {
   "cell_type": "code",
   "execution_count": 4,
   "metadata": {},
   "outputs": [
    {
     "data": {
      "text/html": [
       "<div>\n",
       "<style>\n",
       "    .dataframe thead tr:only-child th {\n",
       "        text-align: right;\n",
       "    }\n",
       "\n",
       "    .dataframe thead th {\n",
       "        text-align: left;\n",
       "    }\n",
       "\n",
       "    .dataframe tbody tr th {\n",
       "        vertical-align: top;\n",
       "    }\n",
       "</style>\n",
       "<table border=\"1\" class=\"dataframe\">\n",
       "  <thead>\n",
       "    <tr style=\"text-align: right;\">\n",
       "      <th></th>\n",
       "      <th>Reverted</th>\n",
       "      <th>Reverter</th>\n",
       "      <th>Status_reverted</th>\n",
       "      <th>Status_reverter</th>\n",
       "      <th>Time</th>\n",
       "      <th>Reverted_hitback</th>\n",
       "      <th>Reverter_hitback</th>\n",
       "      <th>Status_reverted_hitback</th>\n",
       "      <th>Status_reverter_hitback</th>\n",
       "      <th>Status_diff</th>\n",
       "    </tr>\n",
       "  </thead>\n",
       "  <tbody>\n",
       "    <tr>\n",
       "      <th>0</th>\n",
       "      <td>208.60.196.xxx</td>\n",
       "      <td>Anatoly_Vorobey</td>\n",
       "      <td>1.278754</td>\n",
       "      <td>1.477121</td>\n",
       "      <td>2001-11-04 02:15:54</td>\n",
       "      <td>Anatoly_Vorobey</td>\n",
       "      <td>208.60.196.xxx</td>\n",
       "      <td>1.477121</td>\n",
       "      <td>1.322219</td>\n",
       "      <td>0.198368</td>\n",
       "    </tr>\n",
       "    <tr>\n",
       "      <th>1</th>\n",
       "      <td>Ed_Poor</td>\n",
       "      <td>200.191.188.xxx</td>\n",
       "      <td>2.465383</td>\n",
       "      <td>2.952308</td>\n",
       "      <td>2001-12-06 16:37:39</td>\n",
       "      <td>200.191.188.xxx</td>\n",
       "      <td>Ed_Poor</td>\n",
       "      <td>2.953760</td>\n",
       "      <td>2.480007</td>\n",
       "      <td>0.486925</td>\n",
       "    </tr>\n",
       "  </tbody>\n",
       "</table>\n",
       "</div>"
      ],
      "text/plain": [
       "         Reverted         Reverter  Status_reverted  Status_reverter  \\\n",
       "0  208.60.196.xxx  Anatoly_Vorobey         1.278754         1.477121   \n",
       "1         Ed_Poor  200.191.188.xxx         2.465383         2.952308   \n",
       "\n",
       "                 Time Reverted_hitback Reverter_hitback  \\\n",
       "0 2001-11-04 02:15:54  Anatoly_Vorobey   208.60.196.xxx   \n",
       "1 2001-12-06 16:37:39  200.191.188.xxx          Ed_Poor   \n",
       "\n",
       "   Status_reverted_hitback  Status_reverter_hitback  Status_diff  \n",
       "0                 1.477121                 1.322219     0.198368  \n",
       "1                 2.953760                 2.480007     0.486925  "
      ]
     },
     "execution_count": 4,
     "metadata": {},
     "output_type": "execute_result"
    }
   ],
   "source": [
    "motif_df.head(2)"
   ]
  },
  {
   "cell_type": "code",
   "execution_count": 5,
   "metadata": {},
   "outputs": [
    {
     "data": {
      "text/html": [
       "<div>\n",
       "<style>\n",
       "    .dataframe thead tr:only-child th {\n",
       "        text-align: right;\n",
       "    }\n",
       "\n",
       "    .dataframe thead th {\n",
       "        text-align: left;\n",
       "    }\n",
       "\n",
       "    .dataframe tbody tr th {\n",
       "        vertical-align: top;\n",
       "    }\n",
       "</style>\n",
       "<table border=\"1\" class=\"dataframe\">\n",
       "  <thead>\n",
       "    <tr style=\"text-align: right;\">\n",
       "      <th></th>\n",
       "      <th>Reverted</th>\n",
       "      <th>Reverter</th>\n",
       "      <th>Status_reverted</th>\n",
       "      <th>Status_reverter</th>\n",
       "      <th>Time</th>\n",
       "      <th>Status_diff</th>\n",
       "    </tr>\n",
       "  </thead>\n",
       "  <tbody>\n",
       "    <tr>\n",
       "      <th>0</th>\n",
       "      <td>Conversion_script</td>\n",
       "      <td>Willsmith</td>\n",
       "      <td>4.426218</td>\n",
       "      <td>2.336460</td>\n",
       "      <td>2002-10-23 13:34:06</td>\n",
       "      <td>-2.089759</td>\n",
       "    </tr>\n",
       "    <tr>\n",
       "      <th>1</th>\n",
       "      <td>Jmallios</td>\n",
       "      <td>FvdP</td>\n",
       "      <td>0.000000</td>\n",
       "      <td>2.281033</td>\n",
       "      <td>2002-11-13 21:53:17</td>\n",
       "      <td>2.281033</td>\n",
       "    </tr>\n",
       "  </tbody>\n",
       "</table>\n",
       "</div>"
      ],
      "text/plain": [
       "            Reverted   Reverter  Status_reverted  Status_reverter  \\\n",
       "0  Conversion_script  Willsmith         4.426218         2.336460   \n",
       "1           Jmallios       FvdP         0.000000         2.281033   \n",
       "\n",
       "                 Time  Status_diff  \n",
       "0 2002-10-23 13:34:06    -2.089759  \n",
       "1 2002-11-13 21:53:17     2.281033  "
      ]
     },
     "execution_count": 5,
     "metadata": {},
     "output_type": "execute_result"
    }
   ],
   "source": [
    "edges_df.head(2)"
   ]
  },
  {
   "cell_type": "code",
   "execution_count": 6,
   "metadata": {},
   "outputs": [
    {
     "data": {
      "image/png": "[encoded data removed]",
      "text/plain": [
       "<matplotlib.figure.Figure at 0x17779f51080>"
      ]
     },
     "metadata": {},
     "output_type": "display_data"
    }
   ],
   "source": [
    "fig, ax = plt.subplots(figsize = (15, 10))\n",
    "\n",
    "#Histograms\n",
    "edges_df['Status_diff'].hist(bins = 10, normed = True, ax = ax, alpha = 0.75, label = \"All-Reverts Hist.\" )\n",
    "motif_df['Status_diff'].hist(bins = 10,normed = True, ax = ax, alpha = 0.75, label = \"Motif-Reverts Hist.\")\n",
    "\n",
    "#Vertical Lines\n",
    "ax.axvline(x = edges_df['Status_diff'].mean(), color=\"Blue\", label = \"All-Reverts Mean\")\n",
    "ax.axvline(x = motif_df['Status_diff'].mean(), color=\"Red\", label = \"Motif-Reverts Mean\")\n",
    "\n",
    "\n",
    "ax.set_xlabel(\"Status Difference\")\n",
    "ax.set_ylabel(\"Normalized number of reverts\")\n",
    "ax.legend(loc='upper left')\n",
    "\n",
    "plt.show()"
   ]
  },
  {
   "cell_type": "code",
   "execution_count": 7,
   "metadata": {},
   "outputs": [
    {
     "name": "stdout",
     "output_type": "stream",
     "text": [
      "The status mean difference of all reverts is : 1.3038867692050895\n",
      "The status mean difference of temporal reverts: 0.23722319291087038\n"
     ]
    }
   ],
   "source": [
    "print(\"The status mean difference of all reverts is :\", edges_df['Status_diff'].mean())\n",
    "print(\"The status mean difference of temporal reverts:\", motif_df['Status_diff'].mean())"
   ]
  },
  {
   "cell_type": "code",
   "execution_count": null,
   "metadata": {
    "collapsed": true
   },
   "outputs": [],
   "source": []
  }
 ],
 "metadata": {
  "kernelspec": {
   "display_name": "Python 3",
   "language": "python",
   "name": "python3"
  },
  "language_info": {
   "codemirror_mode": {
    "name": "ipython",
    "version": 3
   },
   "file_extension": ".py",
   "mimetype": "text/x-python",
   "name": "python",
   "nbconvert_exporter": "python",
   "pygments_lexer": "ipython3",
   "version": "3.6.3"
  }
 },
 "nbformat": 4,
 "nbformat_minor": 2
}
