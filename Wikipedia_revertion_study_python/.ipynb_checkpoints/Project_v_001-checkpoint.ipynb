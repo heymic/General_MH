{
 "cells": [
  {
   "cell_type": "markdown",
   "metadata": {},
   "source": [
    "## Who Reverts Whom?\n",
    "\n",
    "If $i$ reverts article to version 25 then $i$ reverts the editor who made the edit immediately after edit 25.\n",
    "\n",
    "Thus, in this example, *Danny* reverted *Ezra_Wax*."
   ]
  },
  {
   "cell_type": "code",
   "execution_count": 292,
   "metadata": {
    "collapsed": true
   },
   "outputs": [],
   "source": [
    "import pandas as pd\n",
    "import math as mt\n",
    "import numpy as np"
   ]
  },
  {
   "cell_type": "code",
   "execution_count": 2,
   "metadata": {
    "collapsed": true
   },
   "outputs": [],
   "source": [
    "df = pd.read_csv(\"enwiki_2002.txt\", sep = '\\t', parse_dates=['time'])"
   ]
  },
  {
   "cell_type": "code",
   "execution_count": 3,
   "metadata": {},
   "outputs": [
    {
     "data": {
      "text/html": [
       "<div>\n",
       "<style>\n",
       "    .dataframe thead tr:only-child th {\n",
       "        text-align: right;\n",
       "    }\n",
       "\n",
       "    .dataframe thead th {\n",
       "        text-align: left;\n",
       "    }\n",
       "\n",
       "    .dataframe tbody tr th {\n",
       "        vertical-align: top;\n",
       "    }\n",
       "</style>\n",
       "<table border=\"1\" class=\"dataframe\">\n",
       "  <thead>\n",
       "    <tr style=\"text-align: right;\">\n",
       "      <th></th>\n",
       "      <th>title</th>\n",
       "      <th>time</th>\n",
       "      <th>revert</th>\n",
       "      <th>version</th>\n",
       "      <th>user</th>\n",
       "    </tr>\n",
       "  </thead>\n",
       "  <tbody>\n",
       "    <tr>\n",
       "      <th>0</th>\n",
       "      <td>Industrial_revolution</td>\n",
       "      <td>2002-02-25 15:51:15</td>\n",
       "      <td>0</td>\n",
       "      <td>2</td>\n",
       "      <td>Conversion_script</td>\n",
       "    </tr>\n",
       "    <tr>\n",
       "      <th>1</th>\n",
       "      <td>Industrial_revolution</td>\n",
       "      <td>2001-08-17 14:14:23</td>\n",
       "      <td>0</td>\n",
       "      <td>1</td>\n",
       "      <td>Koyaanis_Qatsi</td>\n",
       "    </tr>\n",
       "    <tr>\n",
       "      <th>2</th>\n",
       "      <td>Spitfire_(disambiguation)</td>\n",
       "      <td>2002-06-20 13:00:32</td>\n",
       "      <td>0</td>\n",
       "      <td>2</td>\n",
       "      <td>Uriyan</td>\n",
       "    </tr>\n",
       "    <tr>\n",
       "      <th>3</th>\n",
       "      <td>Spitfire_(disambiguation)</td>\n",
       "      <td>2002-02-25 15:43:11</td>\n",
       "      <td>0</td>\n",
       "      <td>1</td>\n",
       "      <td>Conversion_script</td>\n",
       "    </tr>\n",
       "    <tr>\n",
       "      <th>4</th>\n",
       "      <td>Supermarine_Spitfire</td>\n",
       "      <td>2002-12-24 13:09:25</td>\n",
       "      <td>0</td>\n",
       "      <td>29</td>\n",
       "      <td>Tannin</td>\n",
       "    </tr>\n",
       "  </tbody>\n",
       "</table>\n",
       "</div>"
      ],
      "text/plain": [
       "                        title                time  revert  version  \\\n",
       "0      Industrial_revolution  2002-02-25 15:51:15       0        2   \n",
       "1      Industrial_revolution  2001-08-17 14:14:23       0        1   \n",
       "2  Spitfire_(disambiguation)  2002-06-20 13:00:32       0        2   \n",
       "3  Spitfire_(disambiguation)  2002-02-25 15:43:11       0        1   \n",
       "4       Supermarine_Spitfire  2002-12-24 13:09:25       0       29   \n",
       "\n",
       "                user  \n",
       "0  Conversion_script  \n",
       "1     Koyaanis_Qatsi  \n",
       "2             Uriyan  \n",
       "3  Conversion_script  \n",
       "4             Tannin  "
      ]
     },
     "execution_count": 3,
     "metadata": {},
     "output_type": "execute_result"
    }
   ],
   "source": [
    "df.head()"
   ]
  },
  {
   "cell_type": "code",
   "execution_count": 5,
   "metadata": {
    "scrolled": true
   },
   "outputs": [
    {
     "data": {
      "text/plain": [
       "(567285, 5)"
      ]
     },
     "execution_count": 5,
     "metadata": {},
     "output_type": "execute_result"
    }
   ],
   "source": [
    "df.shape"
   ]
  },
  {
   "cell_type": "code",
   "execution_count": 6,
   "metadata": {},
   "outputs": [
    {
     "data": {
      "text/plain": [
       "10380"
      ]
     },
     "execution_count": 6,
     "metadata": {},
     "output_type": "execute_result"
    }
   ],
   "source": [
    "## higher border, value\n",
    "df['revert'].sum()"
   ]
  },
  {
   "cell_type": "code",
   "execution_count": 7,
   "metadata": {},
   "outputs": [
    {
     "data": {
      "text/html": [
       "<div>\n",
       "<style>\n",
       "    .dataframe thead tr:only-child th {\n",
       "        text-align: right;\n",
       "    }\n",
       "\n",
       "    .dataframe thead th {\n",
       "        text-align: left;\n",
       "    }\n",
       "\n",
       "    .dataframe tbody tr th {\n",
       "        vertical-align: top;\n",
       "    }\n",
       "</style>\n",
       "<table border=\"1\" class=\"dataframe\">\n",
       "  <thead>\n",
       "    <tr style=\"text-align: right;\">\n",
       "      <th></th>\n",
       "      <th>title</th>\n",
       "      <th>time</th>\n",
       "      <th>revert</th>\n",
       "      <th>version</th>\n",
       "      <th>user</th>\n",
       "    </tr>\n",
       "  </thead>\n",
       "  <tbody>\n",
       "    <tr>\n",
       "      <th>12</th>\n",
       "      <td>Supermarine_Spitfire</td>\n",
       "      <td>2002-06-20 13:01:19</td>\n",
       "      <td>1</td>\n",
       "      <td>21</td>\n",
       "      <td>Uriyan</td>\n",
       "    </tr>\n",
       "    <tr>\n",
       "      <th>35</th>\n",
       "      <td>Jesus_College,_Cambridge</td>\n",
       "      <td>2002-10-23 13:34:06</td>\n",
       "      <td>1</td>\n",
       "      <td>2</td>\n",
       "      <td>Willsmith</td>\n",
       "    </tr>\n",
       "    <tr>\n",
       "      <th>109</th>\n",
       "      <td>Bubble_sort</td>\n",
       "      <td>2002-11-13 21:58:59</td>\n",
       "      <td>1</td>\n",
       "      <td>17</td>\n",
       "      <td>FvdP</td>\n",
       "    </tr>\n",
       "    <tr>\n",
       "      <th>110</th>\n",
       "      <td>Bubble_sort</td>\n",
       "      <td>2002-11-13 21:53:17</td>\n",
       "      <td>1</td>\n",
       "      <td>16</td>\n",
       "      <td>FvdP</td>\n",
       "    </tr>\n",
       "    <tr>\n",
       "      <th>137</th>\n",
       "      <td>Jews</td>\n",
       "      <td>2002-11-03 04:28:10</td>\n",
       "      <td>1</td>\n",
       "      <td>25</td>\n",
       "      <td>Danny</td>\n",
       "    </tr>\n",
       "  </tbody>\n",
       "</table>\n",
       "</div>"
      ],
      "text/plain": [
       "                         title                time  revert  version       user\n",
       "12       Supermarine_Spitfire  2002-06-20 13:01:19       1       21     Uriyan\n",
       "35   Jesus_College,_Cambridge  2002-10-23 13:34:06       1        2  Willsmith\n",
       "109               Bubble_sort  2002-11-13 21:58:59       1       17       FvdP\n",
       "110               Bubble_sort  2002-11-13 21:53:17       1       16       FvdP\n",
       "137                      Jews  2002-11-03 04:28:10       1       25      Danny"
      ]
     },
     "execution_count": 7,
     "metadata": {},
     "output_type": "execute_result"
    }
   ],
   "source": [
    "df[df['revert'] == 1].head()"
   ]
  },
  {
   "cell_type": "code",
   "execution_count": 154,
   "metadata": {},
   "outputs": [
    {
     "data": {
      "text/plain": [
       "[12, 35, 109, 110, 137, 153, 159, 163, 222]"
      ]
     },
     "execution_count": 154,
     "metadata": {},
     "output_type": "execute_result"
    }
   ],
   "source": [
    "list_of_reversions = df[df['revert'] == 1].index.tolist()\n",
    "list_of_reversions[:9]"
   ]
  },
  {
   "cell_type": "code",
   "execution_count": 9,
   "metadata": {},
   "outputs": [
    {
     "data": {
      "text/html": [
       "<div>\n",
       "<style>\n",
       "    .dataframe thead tr:only-child th {\n",
       "        text-align: right;\n",
       "    }\n",
       "\n",
       "    .dataframe thead th {\n",
       "        text-align: left;\n",
       "    }\n",
       "\n",
       "    .dataframe tbody tr th {\n",
       "        vertical-align: top;\n",
       "    }\n",
       "</style>\n",
       "<table border=\"1\" class=\"dataframe\">\n",
       "  <thead>\n",
       "    <tr style=\"text-align: right;\">\n",
       "      <th></th>\n",
       "      <th>title</th>\n",
       "      <th>time</th>\n",
       "      <th>revert</th>\n",
       "      <th>version</th>\n",
       "      <th>user</th>\n",
       "    </tr>\n",
       "  </thead>\n",
       "  <tbody>\n",
       "    <tr>\n",
       "      <th>11</th>\n",
       "      <td>Supermarine_Spitfire</td>\n",
       "      <td>2002-09-03 06:02:42</td>\n",
       "      <td>0</td>\n",
       "      <td>22</td>\n",
       "      <td>62.253.64.7</td>\n",
       "    </tr>\n",
       "    <tr>\n",
       "      <th>12</th>\n",
       "      <td>Supermarine_Spitfire</td>\n",
       "      <td>2002-06-20 13:01:19</td>\n",
       "      <td>1</td>\n",
       "      <td>21</td>\n",
       "      <td>Uriyan</td>\n",
       "    </tr>\n",
       "    <tr>\n",
       "      <th>13</th>\n",
       "      <td>Supermarine_Spitfire</td>\n",
       "      <td>2002-06-20 12:59:27</td>\n",
       "      <td>0</td>\n",
       "      <td>21</td>\n",
       "      <td>Maury_Markowitz</td>\n",
       "    </tr>\n",
       "    <tr>\n",
       "      <th>14</th>\n",
       "      <td>Supermarine_Spitfire</td>\n",
       "      <td>2002-06-20 12:58:00</td>\n",
       "      <td>0</td>\n",
       "      <td>20</td>\n",
       "      <td>Maury_Markowitz</td>\n",
       "    </tr>\n",
       "  </tbody>\n",
       "</table>\n",
       "</div>"
      ],
      "text/plain": [
       "                    title                time  revert  version  \\\n",
       "11  Supermarine_Spitfire  2002-09-03 06:02:42       0       22   \n",
       "12  Supermarine_Spitfire  2002-06-20 13:01:19       1       21   \n",
       "13  Supermarine_Spitfire  2002-06-20 12:59:27       0       21   \n",
       "14  Supermarine_Spitfire  2002-06-20 12:58:00       0       20   \n",
       "\n",
       "               user  \n",
       "11      62.253.64.7  \n",
       "12           Uriyan  \n",
       "13  Maury_Markowitz  \n",
       "14  Maury_Markowitz  "
      ]
     },
     "execution_count": 9,
     "metadata": {},
     "output_type": "execute_result"
    }
   ],
   "source": [
    "df.iloc[11:15,]"
   ]
  },
  {
   "cell_type": "code",
   "execution_count": 10,
   "metadata": {},
   "outputs": [
    {
     "data": {
      "text/html": [
       "<div>\n",
       "<style>\n",
       "    .dataframe thead tr:only-child th {\n",
       "        text-align: right;\n",
       "    }\n",
       "\n",
       "    .dataframe thead th {\n",
       "        text-align: left;\n",
       "    }\n",
       "\n",
       "    .dataframe tbody tr th {\n",
       "        vertical-align: top;\n",
       "    }\n",
       "</style>\n",
       "<table border=\"1\" class=\"dataframe\">\n",
       "  <thead>\n",
       "    <tr style=\"text-align: right;\">\n",
       "      <th></th>\n",
       "      <th>title</th>\n",
       "      <th>time</th>\n",
       "      <th>revert</th>\n",
       "      <th>version</th>\n",
       "      <th>user</th>\n",
       "    </tr>\n",
       "  </thead>\n",
       "  <tbody>\n",
       "    <tr>\n",
       "      <th>33</th>\n",
       "      <td>Supermarine_Spitfire</td>\n",
       "      <td>2001-06-15 17:48:03</td>\n",
       "      <td>0</td>\n",
       "      <td>1</td>\n",
       "      <td>WojPob</td>\n",
       "    </tr>\n",
       "    <tr>\n",
       "      <th>34</th>\n",
       "      <td>Jesus_College</td>\n",
       "      <td>2002-10-23 13:26:19</td>\n",
       "      <td>0</td>\n",
       "      <td>1</td>\n",
       "      <td>Willsmith</td>\n",
       "    </tr>\n",
       "    <tr>\n",
       "      <th>35</th>\n",
       "      <td>Jesus_College,_Cambridge</td>\n",
       "      <td>2002-10-23 13:34:06</td>\n",
       "      <td>1</td>\n",
       "      <td>2</td>\n",
       "      <td>Willsmith</td>\n",
       "    </tr>\n",
       "    <tr>\n",
       "      <th>36</th>\n",
       "      <td>Jesus_College,_Cambridge</td>\n",
       "      <td>2002-02-25 15:51:15</td>\n",
       "      <td>0</td>\n",
       "      <td>3</td>\n",
       "      <td>Conversion_script</td>\n",
       "    </tr>\n",
       "    <tr>\n",
       "      <th>37</th>\n",
       "      <td>Jesus_College,_Cambridge</td>\n",
       "      <td>2001-12-06 08:00:09</td>\n",
       "      <td>0</td>\n",
       "      <td>2</td>\n",
       "      <td>Bryan_Derksen</td>\n",
       "    </tr>\n",
       "  </tbody>\n",
       "</table>\n",
       "</div>"
      ],
      "text/plain": [
       "                        title                time  revert  version  \\\n",
       "33      Supermarine_Spitfire  2001-06-15 17:48:03       0        1   \n",
       "34             Jesus_College  2002-10-23 13:26:19       0        1   \n",
       "35  Jesus_College,_Cambridge  2002-10-23 13:34:06       1        2   \n",
       "36  Jesus_College,_Cambridge  2002-02-25 15:51:15       0        3   \n",
       "37  Jesus_College,_Cambridge  2001-12-06 08:00:09       0        2   \n",
       "\n",
       "                 user  \n",
       "33             WojPob  \n",
       "34          Willsmith  \n",
       "35          Willsmith  \n",
       "36  Conversion_script  \n",
       "37      Bryan_Derksen  "
      ]
     },
     "execution_count": 10,
     "metadata": {},
     "output_type": "execute_result"
    }
   ],
   "source": [
    "df.iloc[33:38]"
   ]
  },
  {
   "cell_type": "code",
   "execution_count": 12,
   "metadata": {},
   "outputs": [
    {
     "data": {
      "text/html": [
       "<div>\n",
       "<style>\n",
       "    .dataframe thead tr:only-child th {\n",
       "        text-align: right;\n",
       "    }\n",
       "\n",
       "    .dataframe thead th {\n",
       "        text-align: left;\n",
       "    }\n",
       "\n",
       "    .dataframe tbody tr th {\n",
       "        vertical-align: top;\n",
       "    }\n",
       "</style>\n",
       "<table border=\"1\" class=\"dataframe\">\n",
       "  <thead>\n",
       "    <tr style=\"text-align: right;\">\n",
       "      <th></th>\n",
       "      <th>title</th>\n",
       "      <th>time</th>\n",
       "      <th>revert</th>\n",
       "      <th>version</th>\n",
       "      <th>user</th>\n",
       "    </tr>\n",
       "  </thead>\n",
       "  <tbody>\n",
       "    <tr>\n",
       "      <th>107</th>\n",
       "      <td>Bubble_sort</td>\n",
       "      <td>2002-12-18 21:15:26</td>\n",
       "      <td>0</td>\n",
       "      <td>19</td>\n",
       "      <td>AxelBoldt</td>\n",
       "    </tr>\n",
       "    <tr>\n",
       "      <th>108</th>\n",
       "      <td>Bubble_sort</td>\n",
       "      <td>2002-12-18 08:11:28</td>\n",
       "      <td>0</td>\n",
       "      <td>18</td>\n",
       "      <td>Isis</td>\n",
       "    </tr>\n",
       "    <tr>\n",
       "      <th>109</th>\n",
       "      <td>Bubble_sort</td>\n",
       "      <td>2002-11-13 21:58:59</td>\n",
       "      <td>1</td>\n",
       "      <td>17</td>\n",
       "      <td>FvdP</td>\n",
       "    </tr>\n",
       "    <tr>\n",
       "      <th>110</th>\n",
       "      <td>Bubble_sort</td>\n",
       "      <td>2002-11-13 21:53:17</td>\n",
       "      <td>1</td>\n",
       "      <td>16</td>\n",
       "      <td>FvdP</td>\n",
       "    </tr>\n",
       "    <tr>\n",
       "      <th>111</th>\n",
       "      <td>Bubble_sort</td>\n",
       "      <td>2002-11-13 21:48:57</td>\n",
       "      <td>0</td>\n",
       "      <td>17</td>\n",
       "      <td>Jmallios</td>\n",
       "    </tr>\n",
       "    <tr>\n",
       "      <th>112</th>\n",
       "      <td>Bubble_sort</td>\n",
       "      <td>2002-11-13 20:59:59</td>\n",
       "      <td>0</td>\n",
       "      <td>16</td>\n",
       "      <td>198.214.36.133</td>\n",
       "    </tr>\n",
       "    <tr>\n",
       "      <th>113</th>\n",
       "      <td>Bubble_sort</td>\n",
       "      <td>2002-11-13 20:58:03</td>\n",
       "      <td>0</td>\n",
       "      <td>15</td>\n",
       "      <td>198.214.36.133</td>\n",
       "    </tr>\n",
       "    <tr>\n",
       "      <th>114</th>\n",
       "      <td>Bubble_sort</td>\n",
       "      <td>2002-11-04 20:29:46</td>\n",
       "      <td>0</td>\n",
       "      <td>14</td>\n",
       "      <td>198.214.36.133</td>\n",
       "    </tr>\n",
       "    <tr>\n",
       "      <th>115</th>\n",
       "      <td>Bubble_sort</td>\n",
       "      <td>2002-10-08 14:30:56</td>\n",
       "      <td>0</td>\n",
       "      <td>13</td>\n",
       "      <td>AxelBoldt</td>\n",
       "    </tr>\n",
       "    <tr>\n",
       "      <th>116</th>\n",
       "      <td>Bubble_sort</td>\n",
       "      <td>2002-10-07 10:31:26</td>\n",
       "      <td>0</td>\n",
       "      <td>12</td>\n",
       "      <td>Jeronimo</td>\n",
       "    </tr>\n",
       "    <tr>\n",
       "      <th>117</th>\n",
       "      <td>Bubble_sort</td>\n",
       "      <td>2002-10-07 10:25:44</td>\n",
       "      <td>0</td>\n",
       "      <td>11</td>\n",
       "      <td>Isis</td>\n",
       "    </tr>\n",
       "    <tr>\n",
       "      <th>118</th>\n",
       "      <td>Bubble_sort</td>\n",
       "      <td>2002-09-06 17:40:43</td>\n",
       "      <td>0</td>\n",
       "      <td>10</td>\n",
       "      <td>Andre_Engels</td>\n",
       "    </tr>\n",
       "    <tr>\n",
       "      <th>119</th>\n",
       "      <td>Bubble_sort</td>\n",
       "      <td>2002-03-23 23:55:54</td>\n",
       "      <td>0</td>\n",
       "      <td>9</td>\n",
       "      <td>Hari</td>\n",
       "    </tr>\n",
       "  </tbody>\n",
       "</table>\n",
       "</div>"
      ],
      "text/plain": [
       "            title                time  revert  version            user\n",
       "107  Bubble_sort  2002-12-18 21:15:26       0       19       AxelBoldt\n",
       "108  Bubble_sort  2002-12-18 08:11:28       0       18            Isis\n",
       "109  Bubble_sort  2002-11-13 21:58:59       1       17            FvdP\n",
       "110  Bubble_sort  2002-11-13 21:53:17       1       16            FvdP\n",
       "111  Bubble_sort  2002-11-13 21:48:57       0       17        Jmallios\n",
       "112  Bubble_sort  2002-11-13 20:59:59       0       16  198.214.36.133\n",
       "113  Bubble_sort  2002-11-13 20:58:03       0       15  198.214.36.133\n",
       "114  Bubble_sort  2002-11-04 20:29:46       0       14  198.214.36.133\n",
       "115  Bubble_sort  2002-10-08 14:30:56       0       13       AxelBoldt\n",
       "116  Bubble_sort  2002-10-07 10:31:26       0       12        Jeronimo\n",
       "117  Bubble_sort  2002-10-07 10:25:44       0       11            Isis\n",
       "118  Bubble_sort  2002-09-06 17:40:43       0       10    Andre_Engels\n",
       "119  Bubble_sort  2002-03-23 23:55:54       0        9            Hari"
      ]
     },
     "execution_count": 12,
     "metadata": {},
     "output_type": "execute_result"
    }
   ],
   "source": [
    "df.iloc[107:120]"
   ]
  },
  {
   "cell_type": "markdown",
   "metadata": {},
   "source": [
    "---\n",
    "apply to all data  \n",
    "\n",
    "---"
   ]
  },
  {
   "cell_type": "code",
   "execution_count": 165,
   "metadata": {
    "collapsed": true
   },
   "outputs": [],
   "source": [
    "## Non-Active\n",
    "#list_reverts = df[df['revert'] == 1][['title','version','user']].values.tolist()"
   ]
  },
  {
   "cell_type": "code",
   "execution_count": 234,
   "metadata": {
    "collapsed": true
   },
   "outputs": [],
   "source": [
    "#Active\n",
    "list_reverts = df[df['revert'] == 1][['title','version']].values.tolist()"
   ]
  },
  {
   "cell_type": "code",
   "execution_count": 235,
   "metadata": {},
   "outputs": [
    {
     "data": {
      "text/plain": [
       "[['Aluminum ', 5],\n",
       " ['Aluminum ', 4],\n",
       " ['Aluminum ', 5],\n",
       " ['Aluminum ', 4],\n",
       " ['Larry_Sanger ', 1],\n",
       " ['Nobel_Prize_in_Chemistry ', 14],\n",
       " ['Nobel_Prize_in_Chemistry ', 12]]"
      ]
     },
     "execution_count": 235,
     "metadata": {},
     "output_type": "execute_result"
    }
   ],
   "source": [
    "list_reverts[48:55]"
   ]
  },
  {
   "cell_type": "code",
   "execution_count": 236,
   "metadata": {
    "scrolled": true
   },
   "outputs": [
    {
     "data": {
      "text/plain": [
       "10380"
      ]
     },
     "execution_count": 236,
     "metadata": {},
     "output_type": "execute_result"
    }
   ],
   "source": [
    "len(list_reverts)"
   ]
  },
  {
   "cell_type": "code",
   "execution_count": 191,
   "metadata": {
    "collapsed": true
   },
   "outputs": [],
   "source": [
    "## NON- ACTIVE\n",
    "#index_list1 = []\n",
    "#for i in range(100):\n",
    "#    indexex = df[(df['title'] == list_reverts[i][0]) & (df['version'] == list_reverts[i][1])].index.tolist()\n",
    "#   indexex[1] = indexex[1] - 1\n",
    "#    index_list1.append(indexex)"
   ]
  },
  {
   "cell_type": "code",
   "execution_count": 237,
   "metadata": {
    "collapsed": true
   },
   "outputs": [],
   "source": [
    "index_list = []\n",
    "for i in range(len(list_reverts)):\n",
    "    indexex = df[(df['title'] == list_reverts2[i][0]) & (df['version'] == list_reverts2[i][1]) & (df['revert'] == 0)].index - 1\n",
    "    index_list.append(indexex.tolist())"
   ]
  },
  {
   "cell_type": "code",
   "execution_count": 156,
   "metadata": {
    "scrolled": true
   },
   "outputs": [
    {
     "data": {
      "text/html": [
       "<div>\n",
       "<style>\n",
       "    .dataframe thead tr:only-child th {\n",
       "        text-align: right;\n",
       "    }\n",
       "\n",
       "    .dataframe thead th {\n",
       "        text-align: left;\n",
       "    }\n",
       "\n",
       "    .dataframe tbody tr th {\n",
       "        vertical-align: top;\n",
       "    }\n",
       "</style>\n",
       "<table border=\"1\" class=\"dataframe\">\n",
       "  <thead>\n",
       "    <tr style=\"text-align: right;\">\n",
       "      <th></th>\n",
       "      <th>title</th>\n",
       "      <th>time</th>\n",
       "      <th>revert</th>\n",
       "      <th>version</th>\n",
       "      <th>user</th>\n",
       "    </tr>\n",
       "  </thead>\n",
       "  <tbody>\n",
       "    <tr>\n",
       "      <th>300</th>\n",
       "      <td>Slobodan_Milošević</td>\n",
       "      <td>2002-11-27 00:33:03</td>\n",
       "      <td>0</td>\n",
       "      <td>30</td>\n",
       "      <td>194.117.133.118</td>\n",
       "    </tr>\n",
       "    <tr>\n",
       "      <th>301</th>\n",
       "      <td>Slobodan_Milošević</td>\n",
       "      <td>2002-11-27 00:32:00</td>\n",
       "      <td>0</td>\n",
       "      <td>29</td>\n",
       "      <td>Zocky</td>\n",
       "    </tr>\n",
       "    <tr>\n",
       "      <th>302</th>\n",
       "      <td>Slobodan_Milošević</td>\n",
       "      <td>2002-11-27 00:25:31</td>\n",
       "      <td>1</td>\n",
       "      <td>28</td>\n",
       "      <td>194.117.133.118</td>\n",
       "    </tr>\n",
       "    <tr>\n",
       "      <th>303</th>\n",
       "      <td>Slobodan_Milošević</td>\n",
       "      <td>2002-11-27 00:23:28</td>\n",
       "      <td>1</td>\n",
       "      <td>25</td>\n",
       "      <td>Zocky</td>\n",
       "    </tr>\n",
       "    <tr>\n",
       "      <th>304</th>\n",
       "      <td>Slobodan_Milošević</td>\n",
       "      <td>2002-11-27 00:21:35</td>\n",
       "      <td>0</td>\n",
       "      <td>28</td>\n",
       "      <td>Tinulim</td>\n",
       "    </tr>\n",
       "    <tr>\n",
       "      <th>305</th>\n",
       "      <td>Slobodan_Milošević</td>\n",
       "      <td>2002-11-27 00:20:19</td>\n",
       "      <td>0</td>\n",
       "      <td>27</td>\n",
       "      <td>Eloquence</td>\n",
       "    </tr>\n",
       "    <tr>\n",
       "      <th>306</th>\n",
       "      <td>Slobodan_Milošević</td>\n",
       "      <td>2002-11-27 00:16:03</td>\n",
       "      <td>1</td>\n",
       "      <td>26</td>\n",
       "      <td>Tinulim</td>\n",
       "    </tr>\n",
       "    <tr>\n",
       "      <th>307</th>\n",
       "      <td>Slobodan_Milošević</td>\n",
       "      <td>2002-11-27 00:13:40</td>\n",
       "      <td>1</td>\n",
       "      <td>25</td>\n",
       "      <td>194.117.133.118</td>\n",
       "    </tr>\n",
       "    <tr>\n",
       "      <th>308</th>\n",
       "      <td>Slobodan_Milošević</td>\n",
       "      <td>2002-11-27 00:11:05</td>\n",
       "      <td>0</td>\n",
       "      <td>26</td>\n",
       "      <td>Tinulim</td>\n",
       "    </tr>\n",
       "    <tr>\n",
       "      <th>309</th>\n",
       "      <td>Slobodan_Milošević</td>\n",
       "      <td>2002-11-26 23:54:52</td>\n",
       "      <td>0</td>\n",
       "      <td>25</td>\n",
       "      <td>193.2.132.120</td>\n",
       "    </tr>\n",
       "  </tbody>\n",
       "</table>\n",
       "</div>"
      ],
      "text/plain": [
       "                   title                time  revert  version             user\n",
       "300  Slobodan_Milošević  2002-11-27 00:33:03       0       30  194.117.133.118\n",
       "301  Slobodan_Milošević  2002-11-27 00:32:00       0       29            Zocky\n",
       "302  Slobodan_Milošević  2002-11-27 00:25:31       1       28  194.117.133.118\n",
       "303  Slobodan_Milošević  2002-11-27 00:23:28       1       25            Zocky\n",
       "304  Slobodan_Milošević  2002-11-27 00:21:35       0       28          Tinulim\n",
       "305  Slobodan_Milošević  2002-11-27 00:20:19       0       27        Eloquence\n",
       "306  Slobodan_Milošević  2002-11-27 00:16:03       1       26          Tinulim\n",
       "307  Slobodan_Milošević  2002-11-27 00:13:40       1       25  194.117.133.118\n",
       "308  Slobodan_Milošević  2002-11-27 00:11:05       0       26          Tinulim\n",
       "309  Slobodan_Milošević  2002-11-26 23:54:52       0       25    193.2.132.120"
      ]
     },
     "execution_count": 156,
     "metadata": {},
     "output_type": "execute_result"
    }
   ],
   "source": [
    "df.iloc[300:310]"
   ]
  },
  {
   "cell_type": "code",
   "execution_count": 186,
   "metadata": {},
   "outputs": [
    {
     "data": {
      "text/html": [
       "<div>\n",
       "<style>\n",
       "    .dataframe thead tr:only-child th {\n",
       "        text-align: right;\n",
       "    }\n",
       "\n",
       "    .dataframe thead th {\n",
       "        text-align: left;\n",
       "    }\n",
       "\n",
       "    .dataframe tbody tr th {\n",
       "        vertical-align: top;\n",
       "    }\n",
       "</style>\n",
       "<table border=\"1\" class=\"dataframe\">\n",
       "  <thead>\n",
       "    <tr style=\"text-align: right;\">\n",
       "      <th></th>\n",
       "      <th>title</th>\n",
       "      <th>time</th>\n",
       "      <th>revert</th>\n",
       "      <th>version</th>\n",
       "      <th>user</th>\n",
       "    </tr>\n",
       "  </thead>\n",
       "  <tbody>\n",
       "    <tr>\n",
       "      <th>1748</th>\n",
       "      <td>MSC_Malaysia</td>\n",
       "      <td>2002-10-18 12:56:20</td>\n",
       "      <td>0</td>\n",
       "      <td>2</td>\n",
       "      <td>Willsmith</td>\n",
       "    </tr>\n",
       "    <tr>\n",
       "      <th>1749</th>\n",
       "      <td>MSC_Malaysia</td>\n",
       "      <td>2002-10-18 11:36:55</td>\n",
       "      <td>0</td>\n",
       "      <td>1</td>\n",
       "      <td>Willsmith</td>\n",
       "    </tr>\n",
       "    <tr>\n",
       "      <th>1750</th>\n",
       "      <td>Aluminum</td>\n",
       "      <td>2002-12-27 03:21:09</td>\n",
       "      <td>1</td>\n",
       "      <td>5</td>\n",
       "      <td>Camembert</td>\n",
       "    </tr>\n",
       "    <tr>\n",
       "      <th>1751</th>\n",
       "      <td>Aluminum</td>\n",
       "      <td>2002-12-27 02:54:25</td>\n",
       "      <td>1</td>\n",
       "      <td>4</td>\n",
       "      <td>Isis</td>\n",
       "    </tr>\n",
       "    <tr>\n",
       "      <th>1752</th>\n",
       "      <td>Aluminum</td>\n",
       "      <td>2002-12-27 02:35:20</td>\n",
       "      <td>1</td>\n",
       "      <td>5</td>\n",
       "      <td>64.229.101.208</td>\n",
       "    </tr>\n",
       "    <tr>\n",
       "      <th>1753</th>\n",
       "      <td>Aluminum</td>\n",
       "      <td>2002-12-27 01:15:03</td>\n",
       "      <td>1</td>\n",
       "      <td>4</td>\n",
       "      <td>Isis</td>\n",
       "    </tr>\n",
       "    <tr>\n",
       "      <th>1754</th>\n",
       "      <td>Aluminum</td>\n",
       "      <td>2002-12-27 00:39:50</td>\n",
       "      <td>0</td>\n",
       "      <td>5</td>\n",
       "      <td>Mav</td>\n",
       "    </tr>\n",
       "    <tr>\n",
       "      <th>1755</th>\n",
       "      <td>Aluminum</td>\n",
       "      <td>2002-12-27 00:34:38</td>\n",
       "      <td>0</td>\n",
       "      <td>4</td>\n",
       "      <td>Isis</td>\n",
       "    </tr>\n",
       "  </tbody>\n",
       "</table>\n",
       "</div>"
      ],
      "text/plain": [
       "              title                time  revert  version            user\n",
       "1748  MSC_Malaysia  2002-10-18 12:56:20       0        2       Willsmith\n",
       "1749  MSC_Malaysia  2002-10-18 11:36:55       0        1       Willsmith\n",
       "1750      Aluminum  2002-12-27 03:21:09       1        5       Camembert\n",
       "1751      Aluminum  2002-12-27 02:54:25       1        4            Isis\n",
       "1752      Aluminum  2002-12-27 02:35:20       1        5  64.229.101.208\n",
       "1753      Aluminum  2002-12-27 01:15:03       1        4            Isis\n",
       "1754      Aluminum  2002-12-27 00:39:50       0        5             Mav\n",
       "1755      Aluminum  2002-12-27 00:34:38       0        4            Isis"
      ]
     },
     "execution_count": 186,
     "metadata": {},
     "output_type": "execute_result"
    }
   ],
   "source": [
    "df.iloc[1748:1756]"
   ]
  },
  {
   "cell_type": "code",
   "execution_count": 210,
   "metadata": {
    "scrolled": true
   },
   "outputs": [
    {
     "data": {
      "text/plain": [
       "[[12], [36], [110], [111], [138], [153], [160], [164], [222], [228]]"
      ]
     },
     "execution_count": 210,
     "metadata": {},
     "output_type": "execute_result"
    }
   ],
   "source": [
    "index_list[:10]"
   ]
  },
  {
   "cell_type": "code",
   "execution_count": 239,
   "metadata": {},
   "outputs": [
    {
     "data": {
      "text/plain": [
       "[12, 36, 110, 111, 138, 153]"
      ]
     },
     "execution_count": 239,
     "metadata": {},
     "output_type": "execute_result"
    }
   ],
   "source": [
    "flat_list = [item for sublist in index_list for item in sublist]\n",
    "flat_list[:6]\n",
    "#df.loc[flat_list]['user'].tolist()"
   ]
  },
  {
   "cell_type": "code",
   "execution_count": 241,
   "metadata": {
    "collapsed": true
   },
   "outputs": [],
   "source": [
    "df_revert = pd.DataFrame({'Time' : df[df['revert'] == 1]['time'].tolist(), \n",
    "                          'Reverter' : df[df['revert'] == 1]['user'].tolist(),\n",
    "                          'Reverted' : df.loc[flat_list]['user'].tolist() })"
   ]
  },
  {
   "cell_type": "code",
   "execution_count": 243,
   "metadata": {
    "scrolled": true
   },
   "outputs": [
    {
     "data": {
      "text/html": [
       "<div>\n",
       "<style>\n",
       "    .dataframe thead tr:only-child th {\n",
       "        text-align: right;\n",
       "    }\n",
       "\n",
       "    .dataframe thead th {\n",
       "        text-align: left;\n",
       "    }\n",
       "\n",
       "    .dataframe tbody tr th {\n",
       "        vertical-align: top;\n",
       "    }\n",
       "</style>\n",
       "<table border=\"1\" class=\"dataframe\">\n",
       "  <thead>\n",
       "    <tr style=\"text-align: right;\">\n",
       "      <th></th>\n",
       "      <th>Reverted</th>\n",
       "      <th>Reverter</th>\n",
       "      <th>Time</th>\n",
       "    </tr>\n",
       "  </thead>\n",
       "  <tbody>\n",
       "    <tr>\n",
       "      <th>10375</th>\n",
       "      <td>66.156.88.47</td>\n",
       "      <td>Graft</td>\n",
       "      <td>2002-10-01 03:17:16</td>\n",
       "    </tr>\n",
       "    <tr>\n",
       "      <th>10376</th>\n",
       "      <td>Lir</td>\n",
       "      <td>Mav</td>\n",
       "      <td>2002-09-28 07:31:49</td>\n",
       "    </tr>\n",
       "    <tr>\n",
       "      <th>10377</th>\n",
       "      <td>Mav</td>\n",
       "      <td>Lir</td>\n",
       "      <td>2002-09-28 07:30:37</td>\n",
       "    </tr>\n",
       "    <tr>\n",
       "      <th>10378</th>\n",
       "      <td>Lir</td>\n",
       "      <td>Mav</td>\n",
       "      <td>2002-09-28 07:15:02</td>\n",
       "    </tr>\n",
       "    <tr>\n",
       "      <th>10379</th>\n",
       "      <td>206.82.16.35</td>\n",
       "      <td>206.82.16.35</td>\n",
       "      <td>2002-04-02 09:54:12</td>\n",
       "    </tr>\n",
       "  </tbody>\n",
       "</table>\n",
       "</div>"
      ],
      "text/plain": [
       "           Reverted      Reverter                Time\n",
       "10375  66.156.88.47         Graft 2002-10-01 03:17:16\n",
       "10376           Lir           Mav 2002-09-28 07:31:49\n",
       "10377           Mav           Lir 2002-09-28 07:30:37\n",
       "10378           Lir           Mav 2002-09-28 07:15:02\n",
       "10379  206.82.16.35  206.82.16.35 2002-04-02 09:54:12"
      ]
     },
     "execution_count": 243,
     "metadata": {},
     "output_type": "execute_result"
    }
   ],
   "source": [
    "df_revert.tail()"
   ]
  },
  {
   "cell_type": "code",
   "execution_count": 197,
   "metadata": {},
   "outputs": [
    {
     "data": {
      "text/html": [
       "<div>\n",
       "<style>\n",
       "    .dataframe thead tr:only-child th {\n",
       "        text-align: right;\n",
       "    }\n",
       "\n",
       "    .dataframe thead th {\n",
       "        text-align: left;\n",
       "    }\n",
       "\n",
       "    .dataframe tbody tr th {\n",
       "        vertical-align: top;\n",
       "    }\n",
       "</style>\n",
       "<table border=\"1\" class=\"dataframe\">\n",
       "  <thead>\n",
       "    <tr style=\"text-align: right;\">\n",
       "      <th></th>\n",
       "      <th>title</th>\n",
       "      <th>time</th>\n",
       "      <th>revert</th>\n",
       "      <th>version</th>\n",
       "      <th>user</th>\n",
       "    </tr>\n",
       "  </thead>\n",
       "  <tbody>\n",
       "    <tr>\n",
       "      <th>225</th>\n",
       "      <td>Coup_d'état</td>\n",
       "      <td>2002-04-16 13:47:31</td>\n",
       "      <td>0</td>\n",
       "      <td>15</td>\n",
       "      <td>DanKeshet</td>\n",
       "    </tr>\n",
       "    <tr>\n",
       "      <th>226</th>\n",
       "      <td>Coup_d'état</td>\n",
       "      <td>2002-04-16 05:08:14</td>\n",
       "      <td>0</td>\n",
       "      <td>14</td>\n",
       "      <td>Hellbent</td>\n",
       "    </tr>\n",
       "    <tr>\n",
       "      <th>227</th>\n",
       "      <td>Coup_d'état</td>\n",
       "      <td>2002-04-15 17:54:27</td>\n",
       "      <td>1</td>\n",
       "      <td>12</td>\n",
       "      <td>Roadrunner</td>\n",
       "    </tr>\n",
       "    <tr>\n",
       "      <th>228</th>\n",
       "      <td>Coup_d'état</td>\n",
       "      <td>2002-04-15 15:50:17</td>\n",
       "      <td>0</td>\n",
       "      <td>13</td>\n",
       "      <td>Hellbent</td>\n",
       "    </tr>\n",
       "    <tr>\n",
       "      <th>229</th>\n",
       "      <td>Coup_d'état</td>\n",
       "      <td>2002-04-12 14:40:03</td>\n",
       "      <td>0</td>\n",
       "      <td>12</td>\n",
       "      <td>Roadrunner</td>\n",
       "    </tr>\n",
       "  </tbody>\n",
       "</table>\n",
       "</div>"
      ],
      "text/plain": [
       "            title                time  revert  version        user\n",
       "225  Coup_d'état  2002-04-16 13:47:31       0       15   DanKeshet\n",
       "226  Coup_d'état  2002-04-16 05:08:14       0       14    Hellbent\n",
       "227  Coup_d'état  2002-04-15 17:54:27       1       12  Roadrunner\n",
       "228  Coup_d'état  2002-04-15 15:50:17       0       13    Hellbent\n",
       "229  Coup_d'état  2002-04-12 14:40:03       0       12  Roadrunner"
      ]
     },
     "execution_count": 197,
     "metadata": {},
     "output_type": "execute_result"
    }
   ],
   "source": [
    "df.iloc[225:230]"
   ]
  },
  {
   "cell_type": "code",
   "execution_count": 254,
   "metadata": {
    "collapsed": true
   },
   "outputs": [],
   "source": [
    "df_revert_final = df_revert[df_revert['Reverter'] != df_revert['Reverted']].reset_index(drop = True)"
   ]
  },
  {
   "cell_type": "code",
   "execution_count": 261,
   "metadata": {
    "scrolled": true
   },
   "outputs": [
    {
     "data": {
      "text/html": [
       "<div>\n",
       "<style>\n",
       "    .dataframe thead tr:only-child th {\n",
       "        text-align: right;\n",
       "    }\n",
       "\n",
       "    .dataframe thead th {\n",
       "        text-align: left;\n",
       "    }\n",
       "\n",
       "    .dataframe tbody tr th {\n",
       "        vertical-align: top;\n",
       "    }\n",
       "</style>\n",
       "<table border=\"1\" class=\"dataframe\">\n",
       "  <thead>\n",
       "    <tr style=\"text-align: right;\">\n",
       "      <th></th>\n",
       "      <th>Reverted</th>\n",
       "      <th>Reverter</th>\n",
       "      <th>Time</th>\n",
       "    </tr>\n",
       "  </thead>\n",
       "  <tbody>\n",
       "    <tr>\n",
       "      <th>0</th>\n",
       "      <td>Conversion_script</td>\n",
       "      <td>Willsmith</td>\n",
       "      <td>2002-10-23 13:34:06</td>\n",
       "    </tr>\n",
       "    <tr>\n",
       "      <th>1</th>\n",
       "      <td>Jmallios</td>\n",
       "      <td>FvdP</td>\n",
       "      <td>2002-11-13 21:53:17</td>\n",
       "    </tr>\n",
       "    <tr>\n",
       "      <th>2</th>\n",
       "      <td>Ezra_Wax</td>\n",
       "      <td>Danny</td>\n",
       "      <td>2002-11-03 04:28:10</td>\n",
       "    </tr>\n",
       "    <tr>\n",
       "      <th>3</th>\n",
       "      <td>209.7.11.9</td>\n",
       "      <td>Koyaanis_Qatsi</td>\n",
       "      <td>2002-05-01 12:19:10</td>\n",
       "    </tr>\n",
       "    <tr>\n",
       "      <th>4</th>\n",
       "      <td>209.240.222.xxx</td>\n",
       "      <td>Dmerrill</td>\n",
       "      <td>2001-12-31 19:14:41</td>\n",
       "    </tr>\n",
       "  </tbody>\n",
       "</table>\n",
       "</div>"
      ],
      "text/plain": [
       "            Reverted        Reverter                Time\n",
       "0  Conversion_script       Willsmith 2002-10-23 13:34:06\n",
       "1           Jmallios            FvdP 2002-11-13 21:53:17\n",
       "2           Ezra_Wax           Danny 2002-11-03 04:28:10\n",
       "3         209.7.11.9  Koyaanis_Qatsi 2002-05-01 12:19:10\n",
       "4    209.240.222.xxx        Dmerrill 2001-12-31 19:14:41"
      ]
     },
     "execution_count": 261,
     "metadata": {},
     "output_type": "execute_result"
    }
   ],
   "source": [
    "df_revert_final.head()"
   ]
  },
  {
   "cell_type": "code",
   "execution_count": 262,
   "metadata": {
    "scrolled": false
   },
   "outputs": [
    {
     "data": {
      "text/html": [
       "<div>\n",
       "<style>\n",
       "    .dataframe thead tr:only-child th {\n",
       "        text-align: right;\n",
       "    }\n",
       "\n",
       "    .dataframe thead th {\n",
       "        text-align: left;\n",
       "    }\n",
       "\n",
       "    .dataframe tbody tr th {\n",
       "        vertical-align: top;\n",
       "    }\n",
       "</style>\n",
       "<table border=\"1\" class=\"dataframe\">\n",
       "  <thead>\n",
       "    <tr style=\"text-align: right;\">\n",
       "      <th></th>\n",
       "      <th>title</th>\n",
       "      <th>time</th>\n",
       "      <th>revert</th>\n",
       "      <th>version</th>\n",
       "      <th>user</th>\n",
       "    </tr>\n",
       "  </thead>\n",
       "  <tbody>\n",
       "    <tr>\n",
       "      <th>0</th>\n",
       "      <td>Industrial_revolution</td>\n",
       "      <td>2002-02-25 15:51:15</td>\n",
       "      <td>0</td>\n",
       "      <td>2</td>\n",
       "      <td>Conversion_script</td>\n",
       "    </tr>\n",
       "    <tr>\n",
       "      <th>1</th>\n",
       "      <td>Industrial_revolution</td>\n",
       "      <td>2001-08-17 14:14:23</td>\n",
       "      <td>0</td>\n",
       "      <td>1</td>\n",
       "      <td>Koyaanis_Qatsi</td>\n",
       "    </tr>\n",
       "    <tr>\n",
       "      <th>2</th>\n",
       "      <td>Spitfire_(disambiguation)</td>\n",
       "      <td>2002-06-20 13:00:32</td>\n",
       "      <td>0</td>\n",
       "      <td>2</td>\n",
       "      <td>Uriyan</td>\n",
       "    </tr>\n",
       "    <tr>\n",
       "      <th>3</th>\n",
       "      <td>Spitfire_(disambiguation)</td>\n",
       "      <td>2002-02-25 15:43:11</td>\n",
       "      <td>0</td>\n",
       "      <td>1</td>\n",
       "      <td>Conversion_script</td>\n",
       "    </tr>\n",
       "    <tr>\n",
       "      <th>4</th>\n",
       "      <td>Supermarine_Spitfire</td>\n",
       "      <td>2002-12-24 13:09:25</td>\n",
       "      <td>0</td>\n",
       "      <td>29</td>\n",
       "      <td>Tannin</td>\n",
       "    </tr>\n",
       "  </tbody>\n",
       "</table>\n",
       "</div>"
      ],
      "text/plain": [
       "                        title                time  revert  version  \\\n",
       "0      Industrial_revolution  2002-02-25 15:51:15       0        2   \n",
       "1      Industrial_revolution  2001-08-17 14:14:23       0        1   \n",
       "2  Spitfire_(disambiguation)  2002-06-20 13:00:32       0        2   \n",
       "3  Spitfire_(disambiguation)  2002-02-25 15:43:11       0        1   \n",
       "4       Supermarine_Spitfire  2002-12-24 13:09:25       0       29   \n",
       "\n",
       "                user  \n",
       "0  Conversion_script  \n",
       "1     Koyaanis_Qatsi  \n",
       "2             Uriyan  \n",
       "3  Conversion_script  \n",
       "4             Tannin  "
      ]
     },
     "execution_count": 262,
     "metadata": {},
     "output_type": "execute_result"
    }
   ],
   "source": [
    "df.head()"
   ]
  },
  {
   "cell_type": "code",
   "execution_count": 303,
   "metadata": {},
   "outputs": [
    {
     "data": {
      "text/html": [
       "<div>\n",
       "<style>\n",
       "    .dataframe thead tr:only-child th {\n",
       "        text-align: right;\n",
       "    }\n",
       "\n",
       "    .dataframe thead th {\n",
       "        text-align: left;\n",
       "    }\n",
       "\n",
       "    .dataframe tbody tr th {\n",
       "        vertical-align: top;\n",
       "    }\n",
       "</style>\n",
       "<table border=\"1\" class=\"dataframe\">\n",
       "  <thead>\n",
       "    <tr style=\"text-align: right;\">\n",
       "      <th></th>\n",
       "      <th>title</th>\n",
       "      <th>time</th>\n",
       "      <th>revert</th>\n",
       "      <th>version</th>\n",
       "      <th>user</th>\n",
       "      <th>mention</th>\n",
       "    </tr>\n",
       "  </thead>\n",
       "  <tbody>\n",
       "    <tr>\n",
       "      <th>0</th>\n",
       "      <td>Industrial_revolution</td>\n",
       "      <td>2002-02-25 15:51:15</td>\n",
       "      <td>0</td>\n",
       "      <td>2</td>\n",
       "      <td>Conversion_script</td>\n",
       "      <td>1</td>\n",
       "    </tr>\n",
       "    <tr>\n",
       "      <th>1</th>\n",
       "      <td>Industrial_revolution</td>\n",
       "      <td>2001-08-17 14:14:23</td>\n",
       "      <td>0</td>\n",
       "      <td>1</td>\n",
       "      <td>Koyaanis_Qatsi</td>\n",
       "      <td>1</td>\n",
       "    </tr>\n",
       "    <tr>\n",
       "      <th>2</th>\n",
       "      <td>Spitfire_(disambiguation)</td>\n",
       "      <td>2002-06-20 13:00:32</td>\n",
       "      <td>0</td>\n",
       "      <td>2</td>\n",
       "      <td>Uriyan</td>\n",
       "      <td>1</td>\n",
       "    </tr>\n",
       "    <tr>\n",
       "      <th>3</th>\n",
       "      <td>Spitfire_(disambiguation)</td>\n",
       "      <td>2002-02-25 15:43:11</td>\n",
       "      <td>0</td>\n",
       "      <td>1</td>\n",
       "      <td>Conversion_script</td>\n",
       "      <td>1</td>\n",
       "    </tr>\n",
       "    <tr>\n",
       "      <th>4</th>\n",
       "      <td>Supermarine_Spitfire</td>\n",
       "      <td>2002-12-24 13:09:25</td>\n",
       "      <td>0</td>\n",
       "      <td>29</td>\n",
       "      <td>Tannin</td>\n",
       "      <td>1</td>\n",
       "    </tr>\n",
       "  </tbody>\n",
       "</table>\n",
       "</div>"
      ],
      "text/plain": [
       "                        title                time  revert  version  \\\n",
       "0      Industrial_revolution  2002-02-25 15:51:15       0        2   \n",
       "1      Industrial_revolution  2001-08-17 14:14:23       0        1   \n",
       "2  Spitfire_(disambiguation)  2002-06-20 13:00:32       0        2   \n",
       "3  Spitfire_(disambiguation)  2002-02-25 15:43:11       0        1   \n",
       "4       Supermarine_Spitfire  2002-12-24 13:09:25       0       29   \n",
       "\n",
       "                user  mention  \n",
       "0  Conversion_script        1  \n",
       "1     Koyaanis_Qatsi        1  \n",
       "2             Uriyan        1  \n",
       "3  Conversion_script        1  \n",
       "4             Tannin        1  "
      ]
     },
     "execution_count": 303,
     "metadata": {},
     "output_type": "execute_result"
    }
   ],
   "source": [
    "df.head()"
   ]
  },
  {
   "cell_type": "code",
   "execution_count": 313,
   "metadata": {
    "collapsed": true
   },
   "outputs": [],
   "source": [
    "def get_status2(date, user):\n",
    "\n",
    "    searching_df = len(df[(df['user'] == user) & (df['time'] <= date)])\n",
    "    \n",
    "    return mt.log10(searching_df)"
   ]
  },
  {
   "cell_type": "code",
   "execution_count": 335,
   "metadata": {
    "collapsed": true
   },
   "outputs": [],
   "source": [
    "df_revert_final['Status_Reverter'] = df_revert_final.apply(lambda row: get_status2(row.Time, row.Reverter), axis=1)"
   ]
  },
  {
   "cell_type": "code",
   "execution_count": 336,
   "metadata": {
    "collapsed": true
   },
   "outputs": [],
   "source": [
    "df_revert_final['Status_Reverted'] = df_revert_final.apply(lambda row: get_status2(row.Time, row.Reverted), axis=1)"
   ]
  },
  {
   "cell_type": "code",
   "execution_count": 314,
   "metadata": {},
   "outputs": [
    {
     "data": {
      "text/plain": [
       "2.3364597338485296"
      ]
     },
     "execution_count": 314,
     "metadata": {},
     "output_type": "execute_result"
    }
   ],
   "source": [
    "get_status2(df_revert_final.loc[0,'Time'], df_revert_final.loc[0,'Reverter'])"
   ]
  },
  {
   "cell_type": "code",
   "execution_count": 309,
   "metadata": {},
   "outputs": [
    {
     "ename": "ValueError",
     "evalue": "Can only compare identically-labeled Series objects",
     "output_type": "error",
     "traceback": [
      "\u001b[1;31m---------------------------------------------------------------------------\u001b[0m",
      "\u001b[1;31mValueError\u001b[0m                                Traceback (most recent call last)",
      "\u001b[1;32m<ipython-input-309-a5e7530f6698>\u001b[0m in \u001b[0;36m<module>\u001b[1;34m()\u001b[0m\n\u001b[1;32m----> 1\u001b[1;33m \u001b[0mget_status2\u001b[0m\u001b[1;33m(\u001b[0m\u001b[0mdf_revert_final\u001b[0m\u001b[1;33m[\u001b[0m\u001b[1;34m'Time'\u001b[0m\u001b[1;33m]\u001b[0m\u001b[1;33m,\u001b[0m \u001b[0mrow\u001b[0m\u001b[1;33m[\u001b[0m\u001b[1;34m'Reverter'\u001b[0m\u001b[1;33m]\u001b[0m\u001b[1;33m)\u001b[0m\u001b[1;33m\u001b[0m\u001b[0m\n\u001b[0m",
      "\u001b[1;32m<ipython-input-308-53ae8eb3b048>\u001b[0m in \u001b[0;36mget_status2\u001b[1;34m(date, user)\u001b[0m\n\u001b[0;32m      1\u001b[0m \u001b[1;32mdef\u001b[0m \u001b[0mget_status2\u001b[0m\u001b[1;33m(\u001b[0m\u001b[0mdate\u001b[0m\u001b[1;33m,\u001b[0m \u001b[0muser\u001b[0m\u001b[1;33m)\u001b[0m\u001b[1;33m:\u001b[0m\u001b[1;33m\u001b[0m\u001b[0m\n\u001b[0;32m      2\u001b[0m \u001b[1;33m\u001b[0m\u001b[0m\n\u001b[1;32m----> 3\u001b[1;33m     \u001b[0msearching_df\u001b[0m \u001b[1;33m=\u001b[0m \u001b[0mdf\u001b[0m\u001b[1;33m[\u001b[0m\u001b[1;33m(\u001b[0m\u001b[0mdf\u001b[0m\u001b[1;33m[\u001b[0m\u001b[1;34m'user'\u001b[0m\u001b[1;33m]\u001b[0m \u001b[1;33m==\u001b[0m \u001b[0muser\u001b[0m\u001b[1;33m)\u001b[0m \u001b[1;33m&\u001b[0m \u001b[1;33m(\u001b[0m\u001b[0mdf\u001b[0m\u001b[1;33m[\u001b[0m\u001b[1;34m'time'\u001b[0m\u001b[1;33m]\u001b[0m \u001b[1;33m<=\u001b[0m \u001b[0mdate\u001b[0m\u001b[1;33m)\u001b[0m\u001b[1;33m]\u001b[0m\u001b[1;33m\u001b[0m\u001b[0m\n\u001b[0m\u001b[0;32m      4\u001b[0m \u001b[1;33m\u001b[0m\u001b[0m\n\u001b[0;32m      5\u001b[0m     \u001b[1;32mreturn\u001b[0m \u001b[0msearching_df\u001b[0m\u001b[1;33m\u001b[0m\u001b[0m\n",
      "\u001b[1;32m~\\Anaconda3\\lib\\site-packages\\pandas\\core\\ops.py\u001b[0m in \u001b[0;36mwrapper\u001b[1;34m(self, other, axis)\u001b[0m\n\u001b[0;32m    816\u001b[0m             \u001b[1;32mif\u001b[0m \u001b[1;32mnot\u001b[0m \u001b[0mself\u001b[0m\u001b[1;33m.\u001b[0m\u001b[0m_indexed_same\u001b[0m\u001b[1;33m(\u001b[0m\u001b[0mother\u001b[0m\u001b[1;33m)\u001b[0m\u001b[1;33m:\u001b[0m\u001b[1;33m\u001b[0m\u001b[0m\n\u001b[0;32m    817\u001b[0m                 \u001b[0mmsg\u001b[0m \u001b[1;33m=\u001b[0m \u001b[1;34m'Can only compare identically-labeled Series objects'\u001b[0m\u001b[1;33m\u001b[0m\u001b[0m\n\u001b[1;32m--> 818\u001b[1;33m                 \u001b[1;32mraise\u001b[0m \u001b[0mValueError\u001b[0m\u001b[1;33m(\u001b[0m\u001b[0mmsg\u001b[0m\u001b[1;33m)\u001b[0m\u001b[1;33m\u001b[0m\u001b[0m\n\u001b[0m\u001b[0;32m    819\u001b[0m             return self._constructor(na_op(self.values, other.values),\n\u001b[0;32m    820\u001b[0m                                      index=self.index, name=name)\n",
      "\u001b[1;31mValueError\u001b[0m: Can only compare identically-labeled Series objects"
     ]
    }
   ],
   "source": [
    " get_status2(df_revert_final['Time'], row['Reverter'])"
   ]
  },
  {
   "cell_type": "code",
   "execution_count": 299,
   "metadata": {
    "collapsed": true,
    "scrolled": true
   },
   "outputs": [],
   "source": [
    "#List_status_reverter = []\n",
    "# go thorugh all the cols and calculate\n",
    "#for index, row in df_revert_final.iterrows():\n",
    "#    List_status_reverter.append(get_status(row['Time'], row['Reverter']))"
   ]
  },
  {
   "cell_type": "code",
   "execution_count": 338,
   "metadata": {
    "collapsed": true
   },
   "outputs": [],
   "source": [
    "df_revert_final.to_csv('edges.csv')"
   ]
  },
  {
   "cell_type": "code",
   "execution_count": 340,
   "metadata": {
    "collapsed": true
   },
   "outputs": [],
   "source": [
    "import pickle\n",
    "with open ('edges_df', 'wb') as fw:\n",
    "    pickle.dump(df_revert_final, fw)"
   ]
  },
  {
   "cell_type": "code",
   "execution_count": null,
   "metadata": {
    "collapsed": true
   },
   "outputs": [],
   "source": []
  }
 ],
 "metadata": {
  "kernelspec": {
   "display_name": "Python 3",
   "language": "python",
   "name": "python3"
  },
  "language_info": {
   "codemirror_mode": {
    "name": "ipython",
    "version": 3
   },
   "file_extension": ".py",
   "mimetype": "text/x-python",
   "name": "python",
   "nbconvert_exporter": "python",
   "pygments_lexer": "ipython3",
   "version": "3.6.3"
  }
 },
 "nbformat": 4,
 "nbformat_minor": 2
}
